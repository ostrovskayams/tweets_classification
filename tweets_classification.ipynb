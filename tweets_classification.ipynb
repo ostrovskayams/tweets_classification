{
  "nbformat": 4,
  "nbformat_minor": 0,
  "metadata": {
    "colab": {
      "provenance": []
    },
    "kernelspec": {
      "name": "python3",
      "display_name": "Python 3"
    },
    "language_info": {
      "name": "python"
    }
  },
  "cells": [
    {
      "cell_type": "markdown",
      "source": [
        "## Загрузка данных"
      ],
      "metadata": {
        "id": "GgjWo5IoIPfJ"
      }
    },
    {
      "cell_type": "code",
      "execution_count": 1,
      "metadata": {
        "colab": {
          "base_uri": "https://localhost:8080/"
        },
        "id": "ItgLsMEbpsGk",
        "outputId": "a736d0e8-16fc-4fbb-e4d1-1ca370ea4eeb"
      },
      "outputs": [
        {
          "output_type": "stream",
          "name": "stdout",
          "text": [
            "rm: cannot remove './data': No such file or directory\n",
            "Looking in indexes: https://pypi.org/simple, https://us-python.pkg.dev/colab-wheels/public/simple/\n",
            "Requirement already satisfied: gdown in /usr/local/lib/python3.10/dist-packages (4.6.6)\n",
            "Requirement already satisfied: filelock in /usr/local/lib/python3.10/dist-packages (from gdown) (3.12.2)\n",
            "Requirement already satisfied: requests[socks] in /usr/local/lib/python3.10/dist-packages (from gdown) (2.27.1)\n",
            "Requirement already satisfied: six in /usr/local/lib/python3.10/dist-packages (from gdown) (1.16.0)\n",
            "Requirement already satisfied: tqdm in /usr/local/lib/python3.10/dist-packages (from gdown) (4.65.0)\n",
            "Requirement already satisfied: beautifulsoup4 in /usr/local/lib/python3.10/dist-packages (from gdown) (4.11.2)\n",
            "Requirement already satisfied: soupsieve>1.2 in /usr/local/lib/python3.10/dist-packages (from beautifulsoup4->gdown) (2.4.1)\n",
            "Requirement already satisfied: urllib3<1.27,>=1.21.1 in /usr/local/lib/python3.10/dist-packages (from requests[socks]->gdown) (1.26.16)\n",
            "Requirement already satisfied: certifi>=2017.4.17 in /usr/local/lib/python3.10/dist-packages (from requests[socks]->gdown) (2023.5.7)\n",
            "Requirement already satisfied: charset-normalizer~=2.0.0 in /usr/local/lib/python3.10/dist-packages (from requests[socks]->gdown) (2.0.12)\n",
            "Requirement already satisfied: idna<4,>=2.5 in /usr/local/lib/python3.10/dist-packages (from requests[socks]->gdown) (3.4)\n",
            "Requirement already satisfied: PySocks!=1.5.7,>=1.5.6 in /usr/local/lib/python3.10/dist-packages (from requests[socks]->gdown) (1.7.1)\n",
            "/usr/local/lib/python3.10/dist-packages/gdown/cli.py:121: FutureWarning: Option `--id` was deprecated in version 4.3.1 and will be removed in 5.0. You don't need to pass it anymore to use a file ID.\n",
            "  warnings.warn(\n",
            "Downloading...\n",
            "From: https://drive.google.com/uc?id=1KjjTDXQnwA2G9rMVeKZWPeK3hA7HI3O2\n",
            "To: /content/data/train_random.single.json\n",
            "100% 786k/786k [00:00<00:00, 99.3MB/s]\n"
          ]
        }
      ],
      "source": [
        "!rm -r ./data\n",
        "!mkdir ./data/\n",
        "!pip install gdown\n",
        "!cd ./data && gdown --id '1KjjTDXQnwA2G9rMVeKZWPeK3hA7HI3O2'"
      ]
    },
    {
      "cell_type": "code",
      "source": [
        "file_path = './data/train_random.single.json'"
      ],
      "metadata": {
        "id": "Hxd4Fjwa3NwI"
      },
      "execution_count": 2,
      "outputs": []
    },
    {
      "cell_type": "code",
      "source": [
        "import json\n",
        "from tqdm import tqdm"
      ],
      "metadata": {
        "id": "mqYl7BgT4qJA"
      },
      "execution_count": 3,
      "outputs": []
    },
    {
      "cell_type": "code",
      "source": [
        "responses = []\n",
        "with open(file_path, 'r') as file:\n",
        "    for row in tqdm(file):\n",
        "        resp = json.loads(row)\n",
        "        responses.append(resp)"
      ],
      "metadata": {
        "colab": {
          "base_uri": "https://localhost:8080/"
        },
        "id": "4bXnm6_H3nxl",
        "outputId": "a716db05-4c10-440d-ded3-945310a3921f"
      },
      "execution_count": 4,
      "outputs": [
        {
          "output_type": "stream",
          "name": "stderr",
          "text": [
            "2830it [00:00, 133089.80it/s]\n"
          ]
        }
      ]
    },
    {
      "cell_type": "code",
      "source": [
        "responses[10]"
      ],
      "metadata": {
        "colab": {
          "base_uri": "https://localhost:8080/"
        },
        "id": "rj3IYMu543fw",
        "outputId": "1b0fd2a1-5555-4dcb-fd65-45367cda9876"
      },
      "execution_count": 5,
      "outputs": [
        {
          "output_type": "execute_result",
          "data": {
            "text/plain": [
              "{'text': 'I have only 2 episodes left of the {@The Vampire Diaries@} . I’ll probably get to watch them on new years eve. Cant think of a better way to end the decade.',\n",
              " 'date': '2019-12-30',\n",
              " 'label': 2,\n",
              " 'id': 1211494999554215936,\n",
              " 'label_name': 'pop_culture'}"
            ]
          },
          "metadata": {},
          "execution_count": 5
        }
      ]
    },
    {
      "cell_type": "code",
      "source": [
        "len(responses)"
      ],
      "metadata": {
        "colab": {
          "base_uri": "https://localhost:8080/"
        },
        "id": "X4gr3obn5Srw",
        "outputId": "6e2c107b-f943-4253-904a-e1fd42ed866c"
      },
      "execution_count": 6,
      "outputs": [
        {
          "output_type": "execute_result",
          "data": {
            "text/plain": [
              "2830"
            ]
          },
          "metadata": {},
          "execution_count": 6
        }
      ]
    },
    {
      "cell_type": "code",
      "source": [
        "import pandas as pd"
      ],
      "metadata": {
        "id": "T_8iDYMl6lak"
      },
      "execution_count": 7,
      "outputs": []
    },
    {
      "cell_type": "code",
      "source": [
        "df = pd.DataFrame(responses)\n",
        "df.head()"
      ],
      "metadata": {
        "colab": {
          "base_uri": "https://localhost:8080/",
          "height": 206
        },
        "id": "mApuyfOJ6gKo",
        "outputId": "a9c730f6-a0e3-413f-8947-54df7107259f"
      },
      "execution_count": 8,
      "outputs": [
        {
          "output_type": "execute_result",
          "data": {
            "text/plain": [
              "                                                text        date  label  \\\n",
              "0  Chief Keef - Jumanji (New Music) (Finally Roll...  2020-11-29      2   \n",
              "1  Happy Anniversary beautéderm and more years!  ...  2021-08-01      3   \n",
              "2  Ok so I just got home from the club and I real...  2021-06-27      2   \n",
              "3  Sooooo.. it s {@PROGRESS Wrestling@} #StillCha...  2019-09-15      4   \n",
              "4  #HappyWomensDay2020 If there s one thing for y...  2020-03-08      3   \n",
              "\n",
              "                    id       label_name  \n",
              "0  1333017242246766594      pop_culture  \n",
              "1  1421771054318456842       daily_life  \n",
              "2  1409086728124596228      pop_culture  \n",
              "3  1173263799949889544  sports_&_gaming  \n",
              "4  1236618379731120130       daily_life  "
            ],
            "text/html": [
              "\n",
              "  <div id=\"df-482fc367-0459-4a9b-afe1-2e4efaa2ef12\">\n",
              "    <div class=\"colab-df-container\">\n",
              "      <div>\n",
              "<style scoped>\n",
              "    .dataframe tbody tr th:only-of-type {\n",
              "        vertical-align: middle;\n",
              "    }\n",
              "\n",
              "    .dataframe tbody tr th {\n",
              "        vertical-align: top;\n",
              "    }\n",
              "\n",
              "    .dataframe thead th {\n",
              "        text-align: right;\n",
              "    }\n",
              "</style>\n",
              "<table border=\"1\" class=\"dataframe\">\n",
              "  <thead>\n",
              "    <tr style=\"text-align: right;\">\n",
              "      <th></th>\n",
              "      <th>text</th>\n",
              "      <th>date</th>\n",
              "      <th>label</th>\n",
              "      <th>id</th>\n",
              "      <th>label_name</th>\n",
              "    </tr>\n",
              "  </thead>\n",
              "  <tbody>\n",
              "    <tr>\n",
              "      <th>0</th>\n",
              "      <td>Chief Keef - Jumanji (New Music) (Finally Roll...</td>\n",
              "      <td>2020-11-29</td>\n",
              "      <td>2</td>\n",
              "      <td>1333017242246766594</td>\n",
              "      <td>pop_culture</td>\n",
              "    </tr>\n",
              "    <tr>\n",
              "      <th>1</th>\n",
              "      <td>Happy Anniversary beautéderm and more years!  ...</td>\n",
              "      <td>2021-08-01</td>\n",
              "      <td>3</td>\n",
              "      <td>1421771054318456842</td>\n",
              "      <td>daily_life</td>\n",
              "    </tr>\n",
              "    <tr>\n",
              "      <th>2</th>\n",
              "      <td>Ok so I just got home from the club and I real...</td>\n",
              "      <td>2021-06-27</td>\n",
              "      <td>2</td>\n",
              "      <td>1409086728124596228</td>\n",
              "      <td>pop_culture</td>\n",
              "    </tr>\n",
              "    <tr>\n",
              "      <th>3</th>\n",
              "      <td>Sooooo.. it s {@PROGRESS Wrestling@} #StillCha...</td>\n",
              "      <td>2019-09-15</td>\n",
              "      <td>4</td>\n",
              "      <td>1173263799949889544</td>\n",
              "      <td>sports_&amp;_gaming</td>\n",
              "    </tr>\n",
              "    <tr>\n",
              "      <th>4</th>\n",
              "      <td>#HappyWomensDay2020 If there s one thing for y...</td>\n",
              "      <td>2020-03-08</td>\n",
              "      <td>3</td>\n",
              "      <td>1236618379731120130</td>\n",
              "      <td>daily_life</td>\n",
              "    </tr>\n",
              "  </tbody>\n",
              "</table>\n",
              "</div>\n",
              "      <button class=\"colab-df-convert\" onclick=\"convertToInteractive('df-482fc367-0459-4a9b-afe1-2e4efaa2ef12')\"\n",
              "              title=\"Convert this dataframe to an interactive table.\"\n",
              "              style=\"display:none;\">\n",
              "        \n",
              "  <svg xmlns=\"http://www.w3.org/2000/svg\" height=\"24px\"viewBox=\"0 0 24 24\"\n",
              "       width=\"24px\">\n",
              "    <path d=\"M0 0h24v24H0V0z\" fill=\"none\"/>\n",
              "    <path d=\"M18.56 5.44l.94 2.06.94-2.06 2.06-.94-2.06-.94-.94-2.06-.94 2.06-2.06.94zm-11 1L8.5 8.5l.94-2.06 2.06-.94-2.06-.94L8.5 2.5l-.94 2.06-2.06.94zm10 10l.94 2.06.94-2.06 2.06-.94-2.06-.94-.94-2.06-.94 2.06-2.06.94z\"/><path d=\"M17.41 7.96l-1.37-1.37c-.4-.4-.92-.59-1.43-.59-.52 0-1.04.2-1.43.59L10.3 9.45l-7.72 7.72c-.78.78-.78 2.05 0 2.83L4 21.41c.39.39.9.59 1.41.59.51 0 1.02-.2 1.41-.59l7.78-7.78 2.81-2.81c.8-.78.8-2.07 0-2.86zM5.41 20L4 18.59l7.72-7.72 1.47 1.35L5.41 20z\"/>\n",
              "  </svg>\n",
              "      </button>\n",
              "      \n",
              "  <style>\n",
              "    .colab-df-container {\n",
              "      display:flex;\n",
              "      flex-wrap:wrap;\n",
              "      gap: 12px;\n",
              "    }\n",
              "\n",
              "    .colab-df-convert {\n",
              "      background-color: #E8F0FE;\n",
              "      border: none;\n",
              "      border-radius: 50%;\n",
              "      cursor: pointer;\n",
              "      display: none;\n",
              "      fill: #1967D2;\n",
              "      height: 32px;\n",
              "      padding: 0 0 0 0;\n",
              "      width: 32px;\n",
              "    }\n",
              "\n",
              "    .colab-df-convert:hover {\n",
              "      background-color: #E2EBFA;\n",
              "      box-shadow: 0px 1px 2px rgba(60, 64, 67, 0.3), 0px 1px 3px 1px rgba(60, 64, 67, 0.15);\n",
              "      fill: #174EA6;\n",
              "    }\n",
              "\n",
              "    [theme=dark] .colab-df-convert {\n",
              "      background-color: #3B4455;\n",
              "      fill: #D2E3FC;\n",
              "    }\n",
              "\n",
              "    [theme=dark] .colab-df-convert:hover {\n",
              "      background-color: #434B5C;\n",
              "      box-shadow: 0px 1px 3px 1px rgba(0, 0, 0, 0.15);\n",
              "      filter: drop-shadow(0px 1px 2px rgba(0, 0, 0, 0.3));\n",
              "      fill: #FFFFFF;\n",
              "    }\n",
              "  </style>\n",
              "\n",
              "      <script>\n",
              "        const buttonEl =\n",
              "          document.querySelector('#df-482fc367-0459-4a9b-afe1-2e4efaa2ef12 button.colab-df-convert');\n",
              "        buttonEl.style.display =\n",
              "          google.colab.kernel.accessAllowed ? 'block' : 'none';\n",
              "\n",
              "        async function convertToInteractive(key) {\n",
              "          const element = document.querySelector('#df-482fc367-0459-4a9b-afe1-2e4efaa2ef12');\n",
              "          const dataTable =\n",
              "            await google.colab.kernel.invokeFunction('convertToInteractive',\n",
              "                                                     [key], {});\n",
              "          if (!dataTable) return;\n",
              "\n",
              "          const docLinkHtml = 'Like what you see? Visit the ' +\n",
              "            '<a target=\"_blank\" href=https://colab.research.google.com/notebooks/data_table.ipynb>data table notebook</a>'\n",
              "            + ' to learn more about interactive tables.';\n",
              "          element.innerHTML = '';\n",
              "          dataTable['output_type'] = 'display_data';\n",
              "          await google.colab.output.renderOutput(dataTable, element);\n",
              "          const docLink = document.createElement('div');\n",
              "          docLink.innerHTML = docLinkHtml;\n",
              "          element.appendChild(docLink);\n",
              "        }\n",
              "      </script>\n",
              "    </div>\n",
              "  </div>\n",
              "  "
            ]
          },
          "metadata": {},
          "execution_count": 8
        }
      ]
    },
    {
      "cell_type": "code",
      "source": [
        "df.label.plot(kind='hist', edgecolor='black')"
      ],
      "metadata": {
        "colab": {
          "base_uri": "https://localhost:8080/",
          "height": 447
        },
        "id": "1rBsiK5t67xo",
        "outputId": "69fcf249-b7a7-4e5f-c8b0-26479a35cfb1"
      },
      "execution_count": 9,
      "outputs": [
        {
          "output_type": "execute_result",
          "data": {
            "text/plain": [
              "<Axes: ylabel='Frequency'>"
            ]
          },
          "metadata": {},
          "execution_count": 9
        },
        {
          "output_type": "display_data",
          "data": {
            "text/plain": [
              "<Figure size 640x480 with 1 Axes>"
            ],
            "image/png": "[encoded data removed]"
          },
          "metadata": {}
        }
      ]
    },
    {
      "cell_type": "code",
      "source": [
        "df.label.value_counts()"
      ],
      "metadata": {
        "colab": {
          "base_uri": "https://localhost:8080/"
        },
        "id": "xFOKmi-273RN",
        "outputId": "6995bba8-ab5f-4a1b-964d-88e59425117d"
      },
      "execution_count": 10,
      "outputs": [
        {
          "output_type": "execute_result",
          "data": {
            "text/plain": [
              "2    1090\n",
              "4     996\n",
              "3     402\n",
              "5     143\n",
              "1     140\n",
              "0      59\n",
              "Name: label, dtype: int64"
            ]
          },
          "metadata": {},
          "execution_count": 10
        }
      ]
    },
    {
      "cell_type": "code",
      "source": [
        "df.label_name.value_counts()"
      ],
      "metadata": {
        "colab": {
          "base_uri": "https://localhost:8080/"
        },
        "id": "PEdlZ5dfzJ19",
        "outputId": "c61c44b1-da1e-4e91-e0cc-78e94677200f"
      },
      "execution_count": 11,
      "outputs": [
        {
          "output_type": "execute_result",
          "data": {
            "text/plain": [
              "pop_culture                 1090\n",
              "sports_&_gaming              996\n",
              "daily_life                   402\n",
              "science_&_technology         143\n",
              "business_&_entrepreneurs     140\n",
              "arts_&_culture                59\n",
              "Name: label_name, dtype: int64"
            ]
          },
          "metadata": {},
          "execution_count": 11
        }
      ]
    },
    {
      "cell_type": "markdown",
      "source": [
        "## Препроцессинг данных"
      ],
      "metadata": {
        "id": "N954_ye7JA_k"
      }
    },
    {
      "cell_type": "markdown",
      "source": [
        "* Удалим из текста все ссылки и теги\n",
        "* Удалим пунктуацию, числа и whitespaces\n",
        "* Побьем хэштеги на слова\n",
        "* Обрежем удлиненные окончания слов\n",
        "* Лемматизуем текст\n",
        "* Удалим все токены, которые перечислены в nltk.corpus.stopwords.words('english')"
      ],
      "metadata": {
        "id": "oEO7gnqXj-7B"
      }
    },
    {
      "cell_type": "code",
      "source": [
        "!pip install wordsegment"
      ],
      "metadata": {
        "colab": {
          "base_uri": "https://localhost:8080/"
        },
        "id": "DBdnNuiQ-n-X",
        "outputId": "8207a41f-fab2-4cff-9011-9446f9979f74"
      },
      "execution_count": 12,
      "outputs": [
        {
          "output_type": "stream",
          "name": "stdout",
          "text": [
            "Looking in indexes: https://pypi.org/simple, https://us-python.pkg.dev/colab-wheels/public/simple/\n",
            "Collecting wordsegment\n",
            "  Downloading wordsegment-1.3.1-py2.py3-none-any.whl (4.8 MB)\n",
            "\u001b[2K     \u001b[90m━━━━━━━━━━━━━━━━━━━━━━━━━━━━━━━━━━━━━━━━\u001b[0m \u001b[32m4.8/4.8 MB\u001b[0m \u001b[31m48.3 MB/s\u001b[0m eta \u001b[36m0:00:00\u001b[0m\n",
            "\u001b[?25hInstalling collected packages: wordsegment\n",
            "Successfully installed wordsegment-1.3.1\n"
          ]
        }
      ]
    },
    {
      "cell_type": "code",
      "source": [
        "import nltk\n",
        "nltk.download('stopwords')\n",
        "nltk.download('wordnet')\n",
        "nltk.download('punkt')\n",
        "nltk.download('averaged_perceptron_tagger')\n",
        "import re\n",
        "import spacy\n",
        "from nltk.corpus import stopwords\n",
        "from wordsegment import load, segment"
      ],
      "metadata": {
        "colab": {
          "base_uri": "https://localhost:8080/"
        },
        "id": "avarLNULepAf",
        "outputId": "1d44cddc-9ce3-42df-b2e1-5e94ce68c863"
      },
      "execution_count": 13,
      "outputs": [
        {
          "output_type": "stream",
          "name": "stderr",
          "text": [
            "[nltk_data] Downloading package stopwords to /root/nltk_data...\n",
            "[nltk_data]   Unzipping corpora/stopwords.zip.\n",
            "[nltk_data] Downloading package wordnet to /root/nltk_data...\n",
            "[nltk_data] Downloading package punkt to /root/nltk_data...\n",
            "[nltk_data]   Unzipping tokenizers/punkt.zip.\n",
            "[nltk_data] Downloading package averaged_perceptron_tagger to\n",
            "[nltk_data]     /root/nltk_data...\n",
            "[nltk_data]   Unzipping taggers/averaged_perceptron_tagger.zip.\n"
          ]
        }
      ]
    },
    {
      "cell_type": "code",
      "source": [
        "nlp = spacy.load(\"en_core_web_sm\", disable=['parser', 'ner'])\n",
        "load()\n",
        "\n",
        "def split_hashtag(x):\n",
        "    return ' '.join(segment(x.group(0)))\n",
        "\n",
        "# function to lemmatize text\n",
        "def lemmatization(texts):\n",
        "    output = []\n",
        "    for text in texts:\n",
        "        # remove stopwords and not ascii symbols\n",
        "        s = [token for token in text.split() if token.isascii() and not token in stopwords.words('english')]\n",
        "        text = ' '.join(s)\n",
        "        out = [token.lemma_ for token in nlp(text)]\n",
        "        output.append(' '.join(out))\n",
        "    return output\n",
        "\n",
        "def clean_text(df, column):\n",
        "    # remove URL's and USERNAME's\n",
        "    df['clean_tweet'] = df[column].apply(lambda x: re.sub(r'\\{\\{[A-Z]+\\}\\}', '', x))\n",
        "    #df['clean_tweet'] = df['clean_tweet'].apply(lambda x: re.sub(r'http\\S+', '', x))\n",
        "\n",
        "    # remove twitter handles (@user)\n",
        "    df['clean_tweet'] = df['clean_tweet'].apply(lambda x: re.sub(r\"\\{@.+@\\}\", '', x))\n",
        "    #df['clean_tweet'] = df['clean_tweet'].apply(lambda x: re.sub(r\"@[^\\s]+\", '', x))\n",
        "\n",
        "    # split hashtags\n",
        "    df['clean_tweet'] = df['clean_tweet'].apply(lambda x: re.sub(r\"#([^\\s]+)\", split_hashtag, x))\n",
        "\n",
        "    # replace / with space\n",
        "    df['clean_tweet'] = df['clean_tweet'].str.replace(\"/\", \" \")\n",
        "\n",
        "    # remove punctuation marks\n",
        "    punctuation = '.,\\'!\"#$%&()*+-:;<=>?@[\\\\]^_`{|}~'\n",
        "    df['clean_tweet'] = df['clean_tweet'].apply(lambda x: ''.join(ch for ch in x if ch not in set(punctuation)))\n",
        "\n",
        "    # convert text to lowercase\n",
        "    df['clean_tweet'] = df['clean_tweet'].str.lower()\n",
        "\n",
        "    # remove numbers\n",
        "    df['clean_tweet'] = df['clean_tweet'].str.replace(\"[0-9]\", \" \")\n",
        "\n",
        "    # remove whitespaces\n",
        "    df['clean_tweet'] = df['clean_tweet'].apply(lambda x:' '.join(x.split()))\n",
        "\n",
        "    # strip words with 3 or more letters in the end\n",
        "    df['clean_tweet'] = df['clean_tweet'].apply(lambda x: re.sub(r\"([a-z])\\1{2,}\", r\"\\1\", x))\n",
        "\n",
        "    #normalize the words to its base form\n",
        "    df['clean_tweet'] = lemmatization(df['clean_tweet'])"
      ],
      "metadata": {
        "id": "_ZXBjzsEw3-p"
      },
      "execution_count": 14,
      "outputs": []
    },
    {
      "cell_type": "code",
      "source": [
        "clean_text(df, 'text')"
      ],
      "metadata": {
        "colab": {
          "base_uri": "https://localhost:8080/"
        },
        "id": "fMFyHqqgxtNY",
        "outputId": "75a57e57-ce76-4cac-8a22-c473c81f6c2d"
      },
      "execution_count": 15,
      "outputs": [
        {
          "output_type": "stream",
          "name": "stderr",
          "text": [
            "<ipython-input-14-ef11f38371ad>:41: FutureWarning: The default value of regex will change from True to False in a future version.\n",
            "  df['clean_tweet'] = df['clean_tweet'].str.replace(\"[0-9]\", \" \")\n"
          ]
        }
      ]
    },
    {
      "cell_type": "code",
      "source": [
        "df.text[4]"
      ],
      "metadata": {
        "colab": {
          "base_uri": "https://localhost:8080/",
          "height": 52
        },
        "id": "sBK3MZLC0vnV",
        "outputId": "632b5c48-b5b2-49d2-a533-732cfb945d85"
      },
      "execution_count": 16,
      "outputs": [
        {
          "output_type": "execute_result",
          "data": {
            "text/plain": [
              "'#HappyWomensDay2020 If there s one thing for you girls and women out there to read/listen to/watch as you are marking this special day, then I very much recommend this {{USERNAME}}  s Facebook post {{URL}} '"
            ],
            "application/vnd.google.colaboratory.intrinsic+json": {
              "type": "string"
            }
          },
          "metadata": {},
          "execution_count": 16
        }
      ]
    },
    {
      "cell_type": "code",
      "source": [
        "df.clean_tweet[4]"
      ],
      "metadata": {
        "colab": {
          "base_uri": "https://localhost:8080/",
          "height": 35
        },
        "id": "Mey5QJjox3kc",
        "outputId": "20c5b4c1-5125-4bec-d9c4-5b637f8b10cb"
      },
      "execution_count": 17,
      "outputs": [
        {
          "output_type": "execute_result",
          "data": {
            "text/plain": [
              "'happy woman sday one thing girl woman read listen watch mark special day much recommend facebook post'"
            ],
            "application/vnd.google.colaboratory.intrinsic+json": {
              "type": "string"
            }
          },
          "metadata": {},
          "execution_count": 17
        }
      ]
    },
    {
      "cell_type": "code",
      "source": [
        "df.head()"
      ],
      "metadata": {
        "colab": {
          "base_uri": "https://localhost:8080/",
          "height": 250
        },
        "id": "9VIc0pyfx1V7",
        "outputId": "70d7a51d-cce7-4a60-e931-02929c15f3a3"
      },
      "execution_count": 18,
      "outputs": [
        {
          "output_type": "execute_result",
          "data": {
            "text/plain": [
              "                                                text        date  label  \\\n",
              "0  Chief Keef - Jumanji (New Music) (Finally Roll...  2020-11-29      2   \n",
              "1  Happy Anniversary beautéderm and more years!  ...  2021-08-01      3   \n",
              "2  Ok so I just got home from the club and I real...  2021-06-27      2   \n",
              "3  Sooooo.. it s {@PROGRESS Wrestling@} #StillCha...  2019-09-15      4   \n",
              "4  #HappyWomensDay2020 If there s one thing for y...  2020-03-08      3   \n",
              "\n",
              "                    id       label_name  \\\n",
              "0  1333017242246766594      pop_culture   \n",
              "1  1421771054318456842       daily_life   \n",
              "2  1409086728124596228      pop_culture   \n",
              "3  1173263799949889544  sports_&_gaming   \n",
              "4  1236618379731120130       daily_life   \n",
              "\n",
              "                                         clean_tweet  \n",
              "0  chief keef jumanji new music finally rollin mu...  \n",
              "1  happy anniversary year bd th anniversary ruru ...  \n",
              "2  ok get home club realize lgbtq community play ...  \n",
              "3                                             vs yes  \n",
              "4  happy woman sday one thing girl woman read lis...  "
            ],
            "text/html": [
              "\n",
              "  <div id=\"df-f25df2d7-4402-4d12-b762-5d378b345b19\">\n",
              "    <div class=\"colab-df-container\">\n",
              "      <div>\n",
              "<style scoped>\n",
              "    .dataframe tbody tr th:only-of-type {\n",
              "        vertical-align: middle;\n",
              "    }\n",
              "\n",
              "    .dataframe tbody tr th {\n",
              "        vertical-align: top;\n",
              "    }\n",
              "\n",
              "    .dataframe thead th {\n",
              "        text-align: right;\n",
              "    }\n",
              "</style>\n",
              "<table border=\"1\" class=\"dataframe\">\n",
              "  <thead>\n",
              "    <tr style=\"text-align: right;\">\n",
              "      <th></th>\n",
              "      <th>text</th>\n",
              "      <th>date</th>\n",
              "      <th>label</th>\n",
              "      <th>id</th>\n",
              "      <th>label_name</th>\n",
              "      <th>clean_tweet</th>\n",
              "    </tr>\n",
              "  </thead>\n",
              "  <tbody>\n",
              "    <tr>\n",
              "      <th>0</th>\n",
              "      <td>Chief Keef - Jumanji (New Music) (Finally Roll...</td>\n",
              "      <td>2020-11-29</td>\n",
              "      <td>2</td>\n",
              "      <td>1333017242246766594</td>\n",
              "      <td>pop_culture</td>\n",
              "      <td>chief keef jumanji new music finally rollin mu...</td>\n",
              "    </tr>\n",
              "    <tr>\n",
              "      <th>1</th>\n",
              "      <td>Happy Anniversary beautéderm and more years!  ...</td>\n",
              "      <td>2021-08-01</td>\n",
              "      <td>3</td>\n",
              "      <td>1421771054318456842</td>\n",
              "      <td>daily_life</td>\n",
              "      <td>happy anniversary year bd th anniversary ruru ...</td>\n",
              "    </tr>\n",
              "    <tr>\n",
              "      <th>2</th>\n",
              "      <td>Ok so I just got home from the club and I real...</td>\n",
              "      <td>2021-06-27</td>\n",
              "      <td>2</td>\n",
              "      <td>1409086728124596228</td>\n",
              "      <td>pop_culture</td>\n",
              "      <td>ok get home club realize lgbtq community play ...</td>\n",
              "    </tr>\n",
              "    <tr>\n",
              "      <th>3</th>\n",
              "      <td>Sooooo.. it s {@PROGRESS Wrestling@} #StillCha...</td>\n",
              "      <td>2019-09-15</td>\n",
              "      <td>4</td>\n",
              "      <td>1173263799949889544</td>\n",
              "      <td>sports_&amp;_gaming</td>\n",
              "      <td>vs yes</td>\n",
              "    </tr>\n",
              "    <tr>\n",
              "      <th>4</th>\n",
              "      <td>#HappyWomensDay2020 If there s one thing for y...</td>\n",
              "      <td>2020-03-08</td>\n",
              "      <td>3</td>\n",
              "      <td>1236618379731120130</td>\n",
              "      <td>daily_life</td>\n",
              "      <td>happy woman sday one thing girl woman read lis...</td>\n",
              "    </tr>\n",
              "  </tbody>\n",
              "</table>\n",
              "</div>\n",
              "      <button class=\"colab-df-convert\" onclick=\"convertToInteractive('df-f25df2d7-4402-4d12-b762-5d378b345b19')\"\n",
              "              title=\"Convert this dataframe to an interactive table.\"\n",
              "              style=\"display:none;\">\n",
              "        \n",
              "  <svg xmlns=\"http://www.w3.org/2000/svg\" height=\"24px\"viewBox=\"0 0 24 24\"\n",
              "       width=\"24px\">\n",
              "    <path d=\"M0 0h24v24H0V0z\" fill=\"none\"/>\n",
              "    <path d=\"M18.56 5.44l.94 2.06.94-2.06 2.06-.94-2.06-.94-.94-2.06-.94 2.06-2.06.94zm-11 1L8.5 8.5l.94-2.06 2.06-.94-2.06-.94L8.5 2.5l-.94 2.06-2.06.94zm10 10l.94 2.06.94-2.06 2.06-.94-2.06-.94-.94-2.06-.94 2.06-2.06.94z\"/><path d=\"M17.41 7.96l-1.37-1.37c-.4-.4-.92-.59-1.43-.59-.52 0-1.04.2-1.43.59L10.3 9.45l-7.72 7.72c-.78.78-.78 2.05 0 2.83L4 21.41c.39.39.9.59 1.41.59.51 0 1.02-.2 1.41-.59l7.78-7.78 2.81-2.81c.8-.78.8-2.07 0-2.86zM5.41 20L4 18.59l7.72-7.72 1.47 1.35L5.41 20z\"/>\n",
              "  </svg>\n",
              "      </button>\n",
              "      \n",
              "  <style>\n",
              "    .colab-df-container {\n",
              "      display:flex;\n",
              "      flex-wrap:wrap;\n",
              "      gap: 12px;\n",
              "    }\n",
              "\n",
              "    .colab-df-convert {\n",
              "      background-color: #E8F0FE;\n",
              "      border: none;\n",
              "      border-radius: 50%;\n",
              "      cursor: pointer;\n",
              "      display: none;\n",
              "      fill: #1967D2;\n",
              "      height: 32px;\n",
              "      padding: 0 0 0 0;\n",
              "      width: 32px;\n",
              "    }\n",
              "\n",
              "    .colab-df-convert:hover {\n",
              "      background-color: #E2EBFA;\n",
              "      box-shadow: 0px 1px 2px rgba(60, 64, 67, 0.3), 0px 1px 3px 1px rgba(60, 64, 67, 0.15);\n",
              "      fill: #174EA6;\n",
              "    }\n",
              "\n",
              "    [theme=dark] .colab-df-convert {\n",
              "      background-color: #3B4455;\n",
              "      fill: #D2E3FC;\n",
              "    }\n",
              "\n",
              "    [theme=dark] .colab-df-convert:hover {\n",
              "      background-color: #434B5C;\n",
              "      box-shadow: 0px 1px 3px 1px rgba(0, 0, 0, 0.15);\n",
              "      filter: drop-shadow(0px 1px 2px rgba(0, 0, 0, 0.3));\n",
              "      fill: #FFFFFF;\n",
              "    }\n",
              "  </style>\n",
              "\n",
              "      <script>\n",
              "        const buttonEl =\n",
              "          document.querySelector('#df-f25df2d7-4402-4d12-b762-5d378b345b19 button.colab-df-convert');\n",
              "        buttonEl.style.display =\n",
              "          google.colab.kernel.accessAllowed ? 'block' : 'none';\n",
              "\n",
              "        async function convertToInteractive(key) {\n",
              "          const element = document.querySelector('#df-f25df2d7-4402-4d12-b762-5d378b345b19');\n",
              "          const dataTable =\n",
              "            await google.colab.kernel.invokeFunction('convertToInteractive',\n",
              "                                                     [key], {});\n",
              "          if (!dataTable) return;\n",
              "\n",
              "          const docLinkHtml = 'Like what you see? Visit the ' +\n",
              "            '<a target=\"_blank\" href=https://colab.research.google.com/notebooks/data_table.ipynb>data table notebook</a>'\n",
              "            + ' to learn more about interactive tables.';\n",
              "          element.innerHTML = '';\n",
              "          dataTable['output_type'] = 'display_data';\n",
              "          await google.colab.output.renderOutput(dataTable, element);\n",
              "          const docLink = document.createElement('div');\n",
              "          docLink.innerHTML = docLinkHtml;\n",
              "          element.appendChild(docLink);\n",
              "        }\n",
              "      </script>\n",
              "    </div>\n",
              "  </div>\n",
              "  "
            ]
          },
          "metadata": {},
          "execution_count": 18
        }
      ]
    },
    {
      "cell_type": "code",
      "source": [
        "df.shape"
      ],
      "metadata": {
        "colab": {
          "base_uri": "https://localhost:8080/"
        },
        "id": "XQ2LlyzbRxle",
        "outputId": "632c90ab-f137-4d98-e4d9-b819c74a45df"
      },
      "execution_count": 19,
      "outputs": [
        {
          "output_type": "execute_result",
          "data": {
            "text/plain": [
              "(2830, 6)"
            ]
          },
          "metadata": {},
          "execution_count": 19
        }
      ]
    },
    {
      "cell_type": "code",
      "source": [
        "df = df[df.clean_tweet != '']\n",
        "df.shape"
      ],
      "metadata": {
        "colab": {
          "base_uri": "https://localhost:8080/"
        },
        "id": "SQemxe2YRy3m",
        "outputId": "73b7926f-27f0-4bbf-eef3-e25e1b268414"
      },
      "execution_count": 20,
      "outputs": [
        {
          "output_type": "execute_result",
          "data": {
            "text/plain": [
              "(2826, 6)"
            ]
          },
          "metadata": {},
          "execution_count": 20
        }
      ]
    },
    {
      "cell_type": "code",
      "source": [
        "df.to_csv('tweets.csv', index=False)"
      ],
      "metadata": {
        "id": "xldqGFfXEcE2"
      },
      "execution_count": 21,
      "outputs": []
    },
    {
      "cell_type": "markdown",
      "source": [
        "## LDA (Latent Dirichlet Allocation)"
      ],
      "metadata": {
        "id": "xUzPq86Qdn0f"
      }
    },
    {
      "cell_type": "code",
      "source": [
        "from pprint import pprint\n",
        "\n",
        "import gensim\n",
        "import gensim.corpora as corpora\n",
        "from gensim.utils import simple_preprocess\n",
        "from gensim import models"
      ],
      "metadata": {
        "id": "kJQelQYrlfJH"
      },
      "execution_count": 22,
      "outputs": []
    },
    {
      "cell_type": "code",
      "source": [
        "# токенизация\n",
        "\n",
        "tokens = []\n",
        "\n",
        "for tweet in df['clean_tweet']:\n",
        "    tokens.append(tweet.split())"
      ],
      "metadata": {
        "id": "w3gsPy4ed67j"
      },
      "execution_count": 23,
      "outputs": []
    },
    {
      "cell_type": "code",
      "source": [
        "dictionary = gensim.corpora.Dictionary(tokens)\n",
        "dictionary.filter_extremes(no_below=15, no_above=0.5, keep_n=100000) # фильтруем данные\n",
        "\n",
        "bow_corpus = [dictionary.doc2bow(doc) for doc in tokens] # первый корпус - BOW\n",
        "\n",
        "tfidf = models.TfidfModel(bow_corpus)\n",
        "corpus_tfidf = tfidf[bow_corpus] # второй корпус - tfidf"
      ],
      "metadata": {
        "id": "FNiU0VNbmeQF"
      },
      "execution_count": 24,
      "outputs": []
    },
    {
      "cell_type": "code",
      "source": [
        "# обучаем модель сначала на BOW\n",
        "\n",
        "lda_model = gensim.models.LdaMulticore(bow_corpus, num_topics=6, id2word=dictionary, passes=2, workers=2)"
      ],
      "metadata": {
        "colab": {
          "base_uri": "https://localhost:8080/"
        },
        "id": "l9FDVrA_nHqd",
        "outputId": "ccd0d0f8-5fbb-45d6-e3e6-3a72f5a78ebc"
      },
      "execution_count": 25,
      "outputs": [
        {
          "output_type": "stream",
          "name": "stderr",
          "text": [
            "WARNING:gensim.models.ldamulticore:too few updates, training might not converge; consider increasing the number of passes or iterations to improve accuracy\n"
          ]
        }
      ]
    },
    {
      "cell_type": "markdown",
      "source": [
        "В нашем датасете **6** топиков, поэтому мы просим модель выделить тоже **6** топиков."
      ],
      "metadata": {
        "id": "6r1CVX1el_OH"
      }
    },
    {
      "cell_type": "code",
      "source": [
        "for idx, topic in lda_model.print_topics():\n",
        "    print('Topic: {} \\nWords: {}'.format(idx, topic))"
      ],
      "metadata": {
        "colab": {
          "base_uri": "https://localhost:8080/"
        },
        "id": "ypizgvFunpgQ",
        "outputId": "422502cf-43ec-446e-972d-b25f9b696503"
      },
      "execution_count": 26,
      "outputs": [
        {
          "output_type": "stream",
          "name": "stdout",
          "text": [
            "Topic: 0 \n",
            "Words: 0.055*\"via\" + 0.018*\"make\" + 0.015*\"game\" + 0.012*\"live\" + 0.012*\"go\" + 0.011*\"come\" + 0.011*\"watch\" + 0.011*\"need\" + 0.011*\"say\" + 0.010*\"good\"\n",
            "Topic: 1 \n",
            "Words: 0.032*\"new\" + 0.029*\"music\" + 0.025*\"via\" + 0.018*\"like\" + 0.017*\"go\" + 0.016*\"please\" + 0.015*\"stream\" + 0.015*\"video\" + 0.013*\"tell\" + 0.011*\"listen\"\n",
            "Topic: 2 \n",
            "Words: 0.022*\"time\" + 0.021*\"come\" + 0.018*\"think\" + 0.016*\"see\" + 0.016*\"back\" + 0.015*\"game\" + 0.014*\"look\" + 0.014*\"good\" + 0.014*\"get\" + 0.013*\"one\"\n",
            "Topic: 3 \n",
            "Words: 0.023*\"new\" + 0.020*\"love\" + 0.017*\"like\" + 0.017*\"music\" + 0.015*\"good\" + 0.013*\"we\" + 0.013*\"great\" + 0.013*\"year\" + 0.012*\"play\" + 0.011*\"last\"\n",
            "Topic: 4 \n",
            "Words: 0.024*\"get\" + 0.017*\"go\" + 0.016*\"state\" + 0.014*\"love\" + 0.012*\"well\" + 0.012*\"first\" + 0.012*\"game\" + 0.012*\"watch\" + 0.012*\"video\" + 0.010*\"one\"\n",
            "Topic: 5 \n",
            "Words: 0.036*\"day\" + 0.025*\"via\" + 0.019*\"love\" + 0.018*\"year\" + 0.017*\"happy\" + 0.016*\"new\" + 0.014*\"time\" + 0.012*\"get\" + 0.010*\"game\" + 0.010*\"one\"\n"
          ]
        }
      ]
    },
    {
      "cell_type": "markdown",
      "source": [
        "Пробуем интерпретировать выделенные моделью топики:\n",
        "\n",
        "0.   --\n",
        "1.   музыка и видео\n",
        "2.   --\n",
        "3.   музыка и игры\n",
        "4.   спорт (самая очевидная из всех)\n",
        "5.   повседневная жизнь ?\n",
        "\n",
        "\n",
        "\n"
      ],
      "metadata": {
        "id": "VPGHrvoHqUSa"
      }
    },
    {
      "cell_type": "code",
      "source": [
        "print('\\nPerplexity: ', lda_model.log_perplexity(bow_corpus))\n",
        "\n",
        "coherence_model_lda = models.CoherenceModel(model=lda_model, texts=tokens, dictionary=dictionary, coherence='c_v')\n",
        "coherence_lda = coherence_model_lda.get_coherence()\n",
        "print('\\nCoherence Score: ', coherence_lda)"
      ],
      "metadata": {
        "colab": {
          "base_uri": "https://localhost:8080/"
        },
        "id": "lraNSRJApFI0",
        "outputId": "5809532d-52bc-4688-a650-fb85f9ad3250"
      },
      "execution_count": 27,
      "outputs": [
        {
          "output_type": "stream",
          "name": "stdout",
          "text": [
            "\n",
            "Perplexity:  -6.213453897136644\n",
            "\n",
            "Coherence Score:  0.27212956587243126\n"
          ]
        }
      ]
    },
    {
      "cell_type": "code",
      "source": [
        "# обучаем модель на tfidf\n",
        "\n",
        "lda_model_tfidf = gensim.models.LdaMulticore(corpus_tfidf, num_topics=6, id2word=dictionary, passes=2, workers=4)"
      ],
      "metadata": {
        "colab": {
          "base_uri": "https://localhost:8080/"
        },
        "id": "Ue1Ip0tmn46a",
        "outputId": "0fbd0404-e326-48e6-f915-a5058c1bfb2d"
      },
      "execution_count": 28,
      "outputs": [
        {
          "output_type": "stream",
          "name": "stderr",
          "text": [
            "WARNING:gensim.models.ldamulticore:too few updates, training might not converge; consider increasing the number of passes or iterations to improve accuracy\n"
          ]
        }
      ]
    },
    {
      "cell_type": "code",
      "source": [
        "for idx, topic in lda_model_tfidf.print_topics():\n",
        "    print('Topic: {} \\nWord: {}'.format(idx, topic))"
      ],
      "metadata": {
        "colab": {
          "base_uri": "https://localhost:8080/"
        },
        "id": "FN7qHgF_oAdm",
        "outputId": "951bdc73-4f24-4666-f630-2e9284f7d1ae"
      },
      "execution_count": 29,
      "outputs": [
        {
          "output_type": "stream",
          "name": "stdout",
          "text": [
            "Topic: 0 \n",
            "Word: 0.018*\"video\" + 0.016*\"music\" + 0.015*\"love\" + 0.015*\"via\" + 0.013*\"official\" + 0.010*\"back\" + 0.009*\"day\" + 0.008*\"great\" + 0.008*\"really\" + 0.008*\"give\"\n",
            "Topic: 1 \n",
            "Word: 0.014*\"go\" + 0.013*\"new\" + 0.011*\"make\" + 0.010*\"fight\" + 0.010*\"song\" + 0.010*\"music\" + 0.010*\"via\" + 0.009*\"stream\" + 0.009*\"get\" + 0.009*\"th\"\n",
            "Topic: 2 \n",
            "Word: 0.028*\"via\" + 0.015*\"music\" + 0.014*\"new\" + 0.011*\"like\" + 0.010*\"check\" + 0.008*\"dance\" + 0.008*\"see\" + 0.007*\"album\" + 0.007*\"spotify\" + 0.007*\"news\"\n",
            "Topic: 3 \n",
            "Word: 0.018*\"game\" + 0.013*\"play\" + 0.010*\"vs\" + 0.010*\"series\" + 0.010*\"get\" + 0.010*\"take\" + 0.009*\"watch\" + 0.009*\"team\" + 0.008*\"time\" + 0.008*\"go\"\n",
            "Topic: 4 \n",
            "Word: 0.016*\"via\" + 0.013*\"make\" + 0.012*\"new\" + 0.012*\"day\" + 0.009*\"love\" + 0.009*\"stay\" + 0.009*\"woman\" + 0.009*\"year\" + 0.008*\"good\" + 0.008*\"night\"\n",
            "Topic: 5 \n",
            "Word: 0.016*\"happy\" + 0.014*\"via\" + 0.013*\"day\" + 0.013*\"new\" + 0.012*\"come\" + 0.012*\"year\" + 0.011*\"love\" + 0.011*\"watch\" + 0.010*\"look\" + 0.009*\"see\"\n"
          ]
        }
      ]
    },
    {
      "cell_type": "markdown",
      "source": [
        "Пробуем интерпретировать выделенные моделью топики:\n",
        "\n",
        "0.   игры ?\n",
        "1.   музыка и видео\n",
        "2.   музыка ?\n",
        "3.   --\n",
        "4.   музыка и видео\n",
        "5.   --\n",
        "\n",
        "\n",
        "\n"
      ],
      "metadata": {
        "id": "EPO1PvHErNuC"
      }
    },
    {
      "cell_type": "code",
      "source": [
        "print('\\nPerplexity: ', lda_model.log_perplexity(corpus_tfidf))\n",
        "\n",
        "coherence_model_lda = models.CoherenceModel(model=lda_model_tfidf, texts=tokens, dictionary=dictionary, coherence='c_v')\n",
        "coherence_lda = coherence_model_lda.get_coherence()\n",
        "print('\\nCoherence Score: ', coherence_lda)"
      ],
      "metadata": {
        "colab": {
          "base_uri": "https://localhost:8080/"
        },
        "id": "Uqne7vzaoSt8",
        "outputId": "edae61b0-65a5-44dd-aab5-443470506753"
      },
      "execution_count": 30,
      "outputs": [
        {
          "output_type": "stream",
          "name": "stdout",
          "text": [
            "\n",
            "Perplexity:  -7.323233277764999\n",
            "\n",
            "Coherence Score:  0.2516807659886172\n"
          ]
        }
      ]
    },
    {
      "cell_type": "markdown",
      "source": [
        "Проверяем, к какой теме модели отнесут первый твит в датасете."
      ],
      "metadata": {
        "id": "E-RY3yS0sKcN"
      }
    },
    {
      "cell_type": "code",
      "source": [
        "df['text'][0]"
      ],
      "metadata": {
        "colab": {
          "base_uri": "https://localhost:8080/",
          "height": 52
        },
        "id": "z1QlcRvutBUK",
        "outputId": "beaea997-0432-4c99-eb1f-9228df608836"
      },
      "execution_count": 31,
      "outputs": [
        {
          "output_type": "execute_result",
          "data": {
            "text/plain": [
              "'Chief Keef - Jumanji (New Music) (Finally Rollin 2) (Music Video) {{URL}} via {{USERNAME}} {@Glory Boy@} U2BEJUMANJI €!M[]dzAx!sWallHackAimBot€ DamagedModz247 MYNAMEISSCREAM THOTBREAKER'"
            ],
            "application/vnd.google.colaboratory.intrinsic+json": {
              "type": "string"
            }
          },
          "metadata": {},
          "execution_count": 31
        }
      ]
    },
    {
      "cell_type": "code",
      "source": [
        "for index, score in sorted(lda_model[bow_corpus[0]], key=lambda tup: -1*tup[1]):\n",
        "    print(\"\\nScore: {}\\t \\nTopic: {}\".format(score, lda_model.print_topic(index, 10)))"
      ],
      "metadata": {
        "colab": {
          "base_uri": "https://localhost:8080/"
        },
        "id": "WRPdfIFWsCti",
        "outputId": "b7e85de0-c7e9-4161-a2be-bca3380c0dab"
      },
      "execution_count": 32,
      "outputs": [
        {
          "output_type": "stream",
          "name": "stdout",
          "text": [
            "\n",
            "Score: 0.7942487001419067\t \n",
            "Topic: 0.032*\"new\" + 0.029*\"music\" + 0.025*\"via\" + 0.018*\"like\" + 0.017*\"go\" + 0.016*\"please\" + 0.015*\"stream\" + 0.015*\"video\" + 0.013*\"tell\" + 0.011*\"listen\"\n",
            "\n",
            "Score: 0.13090434670448303\t \n",
            "Topic: 0.024*\"get\" + 0.017*\"go\" + 0.016*\"state\" + 0.014*\"love\" + 0.012*\"well\" + 0.012*\"first\" + 0.012*\"game\" + 0.012*\"watch\" + 0.012*\"video\" + 0.010*\"one\"\n",
            "\n",
            "Score: 0.01877453550696373\t \n",
            "Topic: 0.055*\"via\" + 0.018*\"make\" + 0.015*\"game\" + 0.012*\"live\" + 0.012*\"go\" + 0.011*\"come\" + 0.011*\"watch\" + 0.011*\"need\" + 0.011*\"say\" + 0.010*\"good\"\n",
            "\n",
            "Score: 0.01875627040863037\t \n",
            "Topic: 0.036*\"day\" + 0.025*\"via\" + 0.019*\"love\" + 0.018*\"year\" + 0.017*\"happy\" + 0.016*\"new\" + 0.014*\"time\" + 0.012*\"get\" + 0.010*\"game\" + 0.010*\"one\"\n",
            "\n",
            "Score: 0.018676448613405228\t \n",
            "Topic: 0.023*\"new\" + 0.020*\"love\" + 0.017*\"like\" + 0.017*\"music\" + 0.015*\"good\" + 0.013*\"we\" + 0.013*\"great\" + 0.013*\"year\" + 0.012*\"play\" + 0.011*\"last\"\n",
            "\n",
            "Score: 0.018639732152223587\t \n",
            "Topic: 0.022*\"time\" + 0.021*\"come\" + 0.018*\"think\" + 0.016*\"see\" + 0.016*\"back\" + 0.015*\"game\" + 0.014*\"look\" + 0.014*\"good\" + 0.014*\"get\" + 0.013*\"one\"\n"
          ]
        }
      ]
    },
    {
      "cell_type": "code",
      "source": [
        "for index, score in sorted(lda_model_tfidf[bow_corpus[0]], key=lambda tup: -1*tup[1]):\n",
        "    print(\"\\nScore: {}\\t \\nTopic: {}\".format(score, lda_model_tfidf.print_topic(index, 10)))"
      ],
      "metadata": {
        "colab": {
          "base_uri": "https://localhost:8080/"
        },
        "id": "cyyZDSoRs6F4",
        "outputId": "5778d5f0-c17f-4c13-f0a4-1e473d91a1f0"
      },
      "execution_count": 33,
      "outputs": [
        {
          "output_type": "stream",
          "name": "stdout",
          "text": [
            "\n",
            "Score: 0.9064677953720093\t \n",
            "Topic: 0.014*\"go\" + 0.013*\"new\" + 0.011*\"make\" + 0.010*\"fight\" + 0.010*\"song\" + 0.010*\"music\" + 0.010*\"via\" + 0.009*\"stream\" + 0.009*\"get\" + 0.009*\"th\"\n",
            "\n",
            "Score: 0.018777726218104362\t \n",
            "Topic: 0.016*\"happy\" + 0.014*\"via\" + 0.013*\"day\" + 0.013*\"new\" + 0.012*\"come\" + 0.012*\"year\" + 0.011*\"love\" + 0.011*\"watch\" + 0.010*\"look\" + 0.009*\"see\"\n",
            "\n",
            "Score: 0.01876189559698105\t \n",
            "Topic: 0.028*\"via\" + 0.015*\"music\" + 0.014*\"new\" + 0.011*\"like\" + 0.010*\"check\" + 0.008*\"dance\" + 0.008*\"see\" + 0.007*\"album\" + 0.007*\"spotify\" + 0.007*\"news\"\n",
            "\n",
            "Score: 0.01875392347574234\t \n",
            "Topic: 0.018*\"video\" + 0.016*\"music\" + 0.015*\"love\" + 0.015*\"via\" + 0.013*\"official\" + 0.010*\"back\" + 0.009*\"day\" + 0.008*\"great\" + 0.008*\"really\" + 0.008*\"give\"\n",
            "\n",
            "Score: 0.01864679716527462\t \n",
            "Topic: 0.016*\"via\" + 0.013*\"make\" + 0.012*\"new\" + 0.012*\"day\" + 0.009*\"love\" + 0.009*\"stay\" + 0.009*\"woman\" + 0.009*\"year\" + 0.008*\"good\" + 0.008*\"night\"\n",
            "\n",
            "Score: 0.01859179139137268\t \n",
            "Topic: 0.018*\"game\" + 0.013*\"play\" + 0.010*\"vs\" + 0.010*\"series\" + 0.010*\"get\" + 0.010*\"take\" + 0.009*\"watch\" + 0.009*\"team\" + 0.008*\"time\" + 0.008*\"go\"\n"
          ]
        }
      ]
    },
    {
      "cell_type": "markdown",
      "source": [
        "С большой вероятностью тема твита определяется как что-то, связанное с музыкой, что в принципе является правдой."
      ],
      "metadata": {
        "id": "cTi8MyWWsuma"
      }
    },
    {
      "cell_type": "markdown",
      "source": [
        "### Вывод\n",
        "Как видно, темы интерпретируются сложно, модель почти не обладает эффективностью."
      ],
      "metadata": {
        "id": "2ROIu4sBrjzj"
      }
    },
    {
      "cell_type": "markdown",
      "source": [
        "## PLSA (Probabilistic Latent Semantic Analysis)"
      ],
      "metadata": {
        "id": "3SWSnH2TtfHD"
      }
    },
    {
      "cell_type": "code",
      "source": [
        "!pip install plsa"
      ],
      "metadata": {
        "colab": {
          "base_uri": "https://localhost:8080/"
        },
        "id": "TLi2cPi_K784",
        "outputId": "2a2ef9ef-cf26-4327-cad3-3aa4385ed43d"
      },
      "execution_count": 34,
      "outputs": [
        {
          "output_type": "stream",
          "name": "stdout",
          "text": [
            "Looking in indexes: https://pypi.org/simple, https://us-python.pkg.dev/colab-wheels/public/simple/\n",
            "Collecting plsa\n",
            "  Downloading plsa-0.6.0-py3-none-any.whl (33 kB)\n",
            "Requirement already satisfied: matplotlib>=3.0 in /usr/local/lib/python3.10/dist-packages (from plsa) (3.7.1)\n",
            "Requirement already satisfied: nltk>=3.4.5 in /usr/local/lib/python3.10/dist-packages (from plsa) (3.8.1)\n",
            "Requirement already satisfied: numpy>=1.16 in /usr/local/lib/python3.10/dist-packages (from plsa) (1.22.4)\n",
            "Requirement already satisfied: wordcloud>=1.5 in /usr/local/lib/python3.10/dist-packages (from plsa) (1.8.2.2)\n",
            "Requirement already satisfied: contourpy>=1.0.1 in /usr/local/lib/python3.10/dist-packages (from matplotlib>=3.0->plsa) (1.1.0)\n",
            "Requirement already satisfied: cycler>=0.10 in /usr/local/lib/python3.10/dist-packages (from matplotlib>=3.0->plsa) (0.11.0)\n",
            "Requirement already satisfied: fonttools>=4.22.0 in /usr/local/lib/python3.10/dist-packages (from matplotlib>=3.0->plsa) (4.40.0)\n",
            "Requirement already satisfied: kiwisolver>=1.0.1 in /usr/local/lib/python3.10/dist-packages (from matplotlib>=3.0->plsa) (1.4.4)\n",
            "Requirement already satisfied: packaging>=20.0 in /usr/local/lib/python3.10/dist-packages (from matplotlib>=3.0->plsa) (23.1)\n",
            "Requirement already satisfied: pillow>=6.2.0 in /usr/local/lib/python3.10/dist-packages (from matplotlib>=3.0->plsa) (8.4.0)\n",
            "Requirement already satisfied: pyparsing>=2.3.1 in /usr/local/lib/python3.10/dist-packages (from matplotlib>=3.0->plsa) (3.1.0)\n",
            "Requirement already satisfied: python-dateutil>=2.7 in /usr/local/lib/python3.10/dist-packages (from matplotlib>=3.0->plsa) (2.8.2)\n",
            "Requirement already satisfied: click in /usr/local/lib/python3.10/dist-packages (from nltk>=3.4.5->plsa) (8.1.3)\n",
            "Requirement already satisfied: joblib in /usr/local/lib/python3.10/dist-packages (from nltk>=3.4.5->plsa) (1.2.0)\n",
            "Requirement already satisfied: regex>=2021.8.3 in /usr/local/lib/python3.10/dist-packages (from nltk>=3.4.5->plsa) (2022.10.31)\n",
            "Requirement already satisfied: tqdm in /usr/local/lib/python3.10/dist-packages (from nltk>=3.4.5->plsa) (4.65.0)\n",
            "Requirement already satisfied: six>=1.5 in /usr/local/lib/python3.10/dist-packages (from python-dateutil>=2.7->matplotlib>=3.0->plsa) (1.16.0)\n",
            "Installing collected packages: plsa\n",
            "Successfully installed plsa-0.6.0\n"
          ]
        }
      ]
    },
    {
      "cell_type": "code",
      "source": [
        "from plsa import Corpus, Pipeline, Visualize\n",
        "from plsa.pipeline import DEFAULT_PIPELINE\n",
        "from plsa.algorithms import PLSA\n",
        "import matplotlib.pyplot as plt"
      ],
      "metadata": {
        "id": "Ynw0hmMuJrqq"
      },
      "execution_count": 35,
      "outputs": []
    },
    {
      "cell_type": "markdown",
      "source": [
        "В этом модуле есть свой препроцессинг, поэтому после обработки остается меньше текстов, чем в нашем изначальном датасете."
      ],
      "metadata": {
        "id": "__T5RCfuXyfb"
      }
    },
    {
      "cell_type": "code",
      "source": [
        "pipeline = Pipeline(*DEFAULT_PIPELINE)\n",
        "corpus = Corpus.from_csv('tweets.csv', pipeline)"
      ],
      "metadata": {
        "id": "KNwOt4wEXjA9"
      },
      "execution_count": 36,
      "outputs": []
    },
    {
      "cell_type": "code",
      "source": [
        "n_topics = 6\n",
        "plsa = PLSA(corpus, n_topics, True)\n",
        "plsa"
      ],
      "metadata": {
        "colab": {
          "base_uri": "https://localhost:8080/"
        },
        "id": "MivahRzyX8JE",
        "outputId": "73702bb6-7679-4c18-d91c-85bc0cf678a0"
      },
      "execution_count": 37,
      "outputs": [
        {
          "output_type": "execute_result",
          "data": {
            "text/plain": [
              "PLSA:\n",
              "====\n",
              "Number of topics:     6\n",
              "Number of documents:  997\n",
              "Number of words:      3080\n",
              "Number of iterations: 0"
            ]
          },
          "metadata": {},
          "execution_count": 37
        }
      ]
    },
    {
      "cell_type": "code",
      "source": [
        "result = plsa.best_of(5)"
      ],
      "metadata": {
        "id": "fA-kFqYMYC1k"
      },
      "execution_count": 38,
      "outputs": []
    },
    {
      "cell_type": "code",
      "source": [
        "result.word_given_topic[0][:10] # первые 10 слов 1 топика"
      ],
      "metadata": {
        "colab": {
          "base_uri": "https://localhost:8080/"
        },
        "id": "w1ERarOOYwqr",
        "outputId": "6d48c999-fc28-4dd4-e8e6-86ccb56e1cd0"
      },
      "execution_count": 39,
      "outputs": [
        {
          "output_type": "execute_result",
          "data": {
            "text/plain": [
              "(('home', 0.008531708736585555),\n",
              " ('series', 0.007510330509536077),\n",
              " ('team', 0.0072676457714738974),\n",
              " ('year', 0.006879733526112585),\n",
              " ('decade', 0.0068048173685762575),\n",
              " ('talk', 0.006663880513206482),\n",
              " ('watch', 0.006436976322333876),\n",
              " ('music', 0.006241730091988233),\n",
              " ('news', 0.006033615072038604),\n",
              " ('night', 0.005994285789145865))"
            ]
          },
          "metadata": {},
          "execution_count": 39
        }
      ]
    },
    {
      "cell_type": "code",
      "source": [
        "result.word_given_topic[1][:10] # первые 10 слов 2 топика"
      ],
      "metadata": {
        "colab": {
          "base_uri": "https://localhost:8080/"
        },
        "id": "Vdxy0YREZXTK",
        "outputId": "109c04f3-3987-4250-eaec-45937b85041d"
      },
      "execution_count": 40,
      "outputs": [
        {
          "output_type": "execute_result",
          "data": {
            "text/plain": [
              "(('hour', 0.011341904217248207),\n",
              " ('song', 0.009630875184914933),\n",
              " ('power', 0.009120145122791957),\n",
              " ('today', 0.005928021360724471),\n",
              " ('watch', 0.0059140823205904546),\n",
              " ('year', 0.0058841458039555015),\n",
              " ('game', 0.005571473234723417),\n",
              " ('student', 0.005398660854897746),\n",
              " ('league', 0.005156530828871204),\n",
              " ('delay', 0.005001997649646517))"
            ]
          },
          "metadata": {},
          "execution_count": 40
        }
      ]
    },
    {
      "cell_type": "code",
      "source": [
        "result.word_given_topic[2][:10] # первые 10 слов 3 топика"
      ],
      "metadata": {
        "colab": {
          "base_uri": "https://localhost:8080/"
        },
        "id": "wSMrzXJ8ZbJC",
        "outputId": "c2f73ad5-5463-4105-a62c-0a66f6056ca8"
      },
      "execution_count": 41,
      "outputs": [
        {
          "output_type": "execute_result",
          "data": {
            "text/plain": [
              "(('easter', 0.010296325434049756),\n",
              " ('fan', 0.00863994437490401),\n",
              " ('game', 0.007554206309802173),\n",
              " ('weekend', 0.006546486986628167),\n",
              " ('bowl', 0.006252550262634679),\n",
              " ('music', 0.006128205142231848),\n",
              " ('tomorrow', 0.006116328005703197),\n",
              " ('winner', 0.006105386118789147),\n",
              " ('guy', 0.006037811107763359),\n",
              " ('day', 0.005871799008094192))"
            ]
          },
          "metadata": {},
          "execution_count": 41
        }
      ]
    },
    {
      "cell_type": "code",
      "source": [
        "result.word_given_topic[3][:10] # первые 10 слов 4 топика"
      ],
      "metadata": {
        "colab": {
          "base_uri": "https://localhost:8080/"
        },
        "id": "SY6BzkO5ZdsB",
        "outputId": "ad8ea37b-6c2b-46ac-d72c-8cdb2760b8d0"
      },
      "execution_count": 42,
      "outputs": [
        {
          "output_type": "execute_result",
          "data": {
            "text/plain": [
              "(('dance', 0.01036145529810119),\n",
              " ('permission', 0.009440263289799376),\n",
              " ('sugar', 0.009440263289799376),\n",
              " ('let', 0.008750069427525228),\n",
              " ('watermelon', 0.008276902004342473),\n",
              " ('music', 0.007784445626230946),\n",
              " ('video', 0.0069851958351861854),\n",
              " ('style', 0.006362941371806195),\n",
              " ('official', 0.005892963184861779),\n",
              " ('head', 0.005669396170332838))"
            ]
          },
          "metadata": {},
          "execution_count": 42
        }
      ]
    },
    {
      "cell_type": "code",
      "source": [
        "result.word_given_topic[4][:10] # первые 10 слов 5 топика\n",
        "\n",
        "# спорт"
      ],
      "metadata": {
        "colab": {
          "base_uri": "https://localhost:8080/"
        },
        "id": "m5wZYZklZgAZ",
        "outputId": "10e3f54f-b9f1-4c80-a957-4a004927e2a8"
      },
      "execution_count": 43,
      "outputs": [
        {
          "output_type": "execute_result",
          "data": {
            "text/plain": [
              "(('break', 0.008585984968748468),\n",
              " ('fury', 0.007192514213956938),\n",
              " ('love', 0.006845374225376894),\n",
              " ('family', 0.0065246183430946215),\n",
              " ('stream', 0.0064583325928468235),\n",
              " ('relief', 0.006153255619294451),\n",
              " ('thank', 0.005742022767119806),\n",
              " ('fire', 0.005683355885636203),\n",
              " ('day', 0.005338515166017912),\n",
              " ('copy', 0.005203081375730401))"
            ]
          },
          "metadata": {},
          "execution_count": 43
        }
      ]
    },
    {
      "cell_type": "code",
      "source": [
        "result.word_given_topic[5][:10] # первые 10 слов 6 топика"
      ],
      "metadata": {
        "colab": {
          "base_uri": "https://localhost:8080/"
        },
        "id": "S02IYE1PZiNw",
        "outputId": "3275e490-e5bc-4464-fdd1-0e5e0405b6f0"
      },
      "execution_count": 44,
      "outputs": [
        {
          "output_type": "execute_result",
          "data": {
            "text/plain": [
              "(('boy', 0.008773700903915828),\n",
              " ('closet', 0.0072772392571136164),\n",
              " ('line', 0.007246835291082579),\n",
              " ('album', 0.006527256549565435),\n",
              " ('vote', 0.005901196993142925),\n",
              " ('matter', 0.005894509299667834),\n",
              " ('box', 0.005885182805887481),\n",
              " ('state', 0.005468167008297965),\n",
              " ('direction', 0.005271698105232045),\n",
              " ('music', 0.005097426627391124))"
            ]
          },
          "metadata": {},
          "execution_count": 44
        }
      ]
    },
    {
      "cell_type": "code",
      "source": [
        "# можно посмотреть, к какому топику модель относит каждый твит\n",
        "\n",
        "result.topic_given_doc[0]"
      ],
      "metadata": {
        "colab": {
          "base_uri": "https://localhost:8080/"
        },
        "id": "FQxGTbrSaOfs",
        "outputId": "dd626edc-031a-4249-8474-913e9e4c7888"
      },
      "execution_count": 45,
      "outputs": [
        {
          "output_type": "execute_result",
          "data": {
            "text/plain": [
              "array([1., 0., 0., 0., 0., 0.])"
            ]
          },
          "metadata": {},
          "execution_count": 45
        }
      ]
    },
    {
      "cell_type": "markdown",
      "source": [
        "## FastText Classifier"
      ],
      "metadata": {
        "id": "cLfWHxnZObj0"
      }
    },
    {
      "cell_type": "code",
      "source": [
        "!pip install fasttext"
      ],
      "metadata": {
        "id": "f8iKsmHEOghk",
        "colab": {
          "base_uri": "https://localhost:8080/"
        },
        "outputId": "545aab1b-47fe-4c57-e00e-ac7dce39444e"
      },
      "execution_count": 46,
      "outputs": [
        {
          "output_type": "stream",
          "name": "stdout",
          "text": [
            "Looking in indexes: https://pypi.org/simple, https://us-python.pkg.dev/colab-wheels/public/simple/\n",
            "Collecting fasttext\n",
            "  Downloading fasttext-0.9.2.tar.gz (68 kB)\n",
            "\u001b[2K     \u001b[90m━━━━━━━━━━━━━━━━━━━━━━━━━━━━━━━━━━━━━━━━\u001b[0m \u001b[32m68.8/68.8 kB\u001b[0m \u001b[31m5.1 MB/s\u001b[0m eta \u001b[36m0:00:00\u001b[0m\n",
            "\u001b[?25h  Preparing metadata (setup.py) ... \u001b[?25l\u001b[?25hdone\n",
            "Collecting pybind11>=2.2 (from fasttext)\n",
            "  Using cached pybind11-2.10.4-py3-none-any.whl (222 kB)\n",
            "Requirement already satisfied: setuptools>=0.7.0 in /usr/local/lib/python3.10/dist-packages (from fasttext) (67.7.2)\n",
            "Requirement already satisfied: numpy in /usr/local/lib/python3.10/dist-packages (from fasttext) (1.22.4)\n",
            "Building wheels for collected packages: fasttext\n",
            "  Building wheel for fasttext (setup.py) ... \u001b[?25l\u001b[?25hdone\n",
            "  Created wheel for fasttext: filename=fasttext-0.9.2-cp310-cp310-linux_x86_64.whl size=4393157 sha256=b6c792bb6289ca521409f5e3f7e2db22125d2fbf04a9c00a37431a6110c92992\n",
            "  Stored in directory: /root/.cache/pip/wheels/a5/13/75/f811c84a8ab36eedbaef977a6a58a98990e8e0f1967f98f394\n",
            "Successfully built fasttext\n",
            "Installing collected packages: pybind11, fasttext\n",
            "Successfully installed fasttext-0.9.2 pybind11-2.10.4\n"
          ]
        }
      ]
    },
    {
      "cell_type": "code",
      "source": [
        "import fasttext"
      ],
      "metadata": {
        "id": "EC8MUVWUPDG0"
      },
      "execution_count": 47,
      "outputs": []
    },
    {
      "cell_type": "code",
      "source": [
        "labels = []\n",
        "for i in df['label']:\n",
        "  labels.append('__label__' + str(i))\n",
        "\n",
        "texts = []\n",
        "for tweet in df['clean_tweet']:\n",
        "  texts.append(tweet)"
      ],
      "metadata": {
        "id": "gj85CZb7PNV8"
      },
      "execution_count": 48,
      "outputs": []
    },
    {
      "cell_type": "code",
      "source": [
        "df_train = pd.DataFrame({'label': labels[:2500], 'texts': texts[:2500]})\n",
        "df_test = pd.DataFrame({'label': labels[2500:], 'texts': texts[2500:]})\n",
        "\n",
        "df_train.to_csv('FT_train.csv', sep=' ', header=False, index=False)\n",
        "df_test.to_csv('FT_test.csv', sep=' ', header=False, index=False)"
      ],
      "metadata": {
        "id": "TM2O0JAnQWB7"
      },
      "execution_count": 49,
      "outputs": []
    },
    {
      "cell_type": "code",
      "source": [
        "model = fasttext.train_supervised(input=\"FT_train.csv\")"
      ],
      "metadata": {
        "id": "pdEjadomSVh0"
      },
      "execution_count": 50,
      "outputs": []
    },
    {
      "cell_type": "code",
      "source": [
        "model.test(\"FT_test.csv\")"
      ],
      "metadata": {
        "colab": {
          "base_uri": "https://localhost:8080/"
        },
        "id": "nLgGe7UISZ2W",
        "outputId": "ceb2e821-74a7-4d24-8fc8-733a06860a7b"
      },
      "execution_count": 51,
      "outputs": [
        {
          "output_type": "execute_result",
          "data": {
            "text/plain": [
              "(326, 0.5920245398773006, 0.5920245398773006)"
            ]
          },
          "metadata": {},
          "execution_count": 51
        }
      ]
    },
    {
      "cell_type": "code",
      "source": [
        "model = fasttext.train_supervised(input=\"FT_train.csv\", epoch=35, lr=1.0)"
      ],
      "metadata": {
        "id": "TIsVGWOySjRW"
      },
      "execution_count": 52,
      "outputs": []
    },
    {
      "cell_type": "code",
      "source": [
        "model.test(\"FT_test.csv\")"
      ],
      "metadata": {
        "colab": {
          "base_uri": "https://localhost:8080/"
        },
        "id": "ouWqJ0AXSpD9",
        "outputId": "16bd40d6-9ecf-4eae-c16d-3ff50685ea87"
      },
      "execution_count": 53,
      "outputs": [
        {
          "output_type": "execute_result",
          "data": {
            "text/plain": [
              "(326, 0.696319018404908, 0.696319018404908)"
            ]
          },
          "metadata": {},
          "execution_count": 53
        }
      ]
    },
    {
      "cell_type": "code",
      "source": [
        "model = fasttext.train_supervised(input=\"FT_train.csv\", epoch=35, lr=1.0, wordNgrams=3)"
      ],
      "metadata": {
        "id": "9Jw2tqFUTQD2"
      },
      "execution_count": 54,
      "outputs": []
    },
    {
      "cell_type": "code",
      "source": [
        "model.test(\"FT_test.csv\")"
      ],
      "metadata": {
        "colab": {
          "base_uri": "https://localhost:8080/"
        },
        "id": "0Fih1L3sTT4a",
        "outputId": "5d28e016-a5ee-47d7-a527-b9c0fc4ee21e"
      },
      "execution_count": 55,
      "outputs": [
        {
          "output_type": "execute_result",
          "data": {
            "text/plain": [
              "(326, 0.6656441717791411, 0.6656441717791411)"
            ]
          },
          "metadata": {},
          "execution_count": 55
        }
      ]
    },
    {
      "cell_type": "markdown",
      "source": [
        "Лучший результат ниже:"
      ],
      "metadata": {
        "id": "AuPsHIYtSrrt"
      }
    },
    {
      "cell_type": "code",
      "source": [
        "model = fasttext.train_supervised(input=\"FT_train.csv\", epoch=35)"
      ],
      "metadata": {
        "id": "qrsm9bxURN4r"
      },
      "execution_count": 56,
      "outputs": []
    },
    {
      "cell_type": "code",
      "source": [
        "preds = []\n",
        "\n",
        "for i in df_test['texts']:\n",
        "  preds.append(model.predict(i)[0][0])"
      ],
      "metadata": {
        "id": "ZEGySkPKJgvq"
      },
      "execution_count": 57,
      "outputs": []
    },
    {
      "cell_type": "code",
      "source": [
        "from sklearn.metrics import accuracy_score, f1_score"
      ],
      "metadata": {
        "id": "Lzm2s3jRuT17"
      },
      "execution_count": 62,
      "outputs": []
    },
    {
      "cell_type": "code",
      "source": [
        "accuracy_score(df_test['label'], preds)"
      ],
      "metadata": {
        "colab": {
          "base_uri": "https://localhost:8080/"
        },
        "id": "uVP5AM7DJjYX",
        "outputId": "494590a9-9386-4763-b63e-7fb100012538"
      },
      "execution_count": 60,
      "outputs": [
        {
          "output_type": "execute_result",
          "data": {
            "text/plain": [
              "0.6993865030674846"
            ]
          },
          "metadata": {},
          "execution_count": 60
        }
      ]
    },
    {
      "cell_type": "code",
      "source": [
        "f1_score(df_test['label'], preds, average='weighted')"
      ],
      "metadata": {
        "id": "BIzMMkz1iXa-",
        "colab": {
          "base_uri": "https://localhost:8080/"
        },
        "outputId": "7a431e08-db20-4787-dfae-a5499bfc8411"
      },
      "execution_count": 63,
      "outputs": [
        {
          "output_type": "execute_result",
          "data": {
            "text/plain": [
              "0.6841123623146206"
            ]
          },
          "metadata": {},
          "execution_count": 63
        }
      ]
    },
    {
      "cell_type": "code",
      "source": [
        "model.test(\"FT_test.csv\")"
      ],
      "metadata": {
        "colab": {
          "base_uri": "https://localhost:8080/"
        },
        "id": "mp5Fcm9PRRn_",
        "outputId": "a79ace1b-56e4-4d19-8f40-f28848316066"
      },
      "execution_count": 64,
      "outputs": [
        {
          "output_type": "execute_result",
          "data": {
            "text/plain": [
              "(326, 0.7239263803680982, 0.7239263803680982)"
            ]
          },
          "metadata": {},
          "execution_count": 64
        }
      ]
    },
    {
      "cell_type": "markdown",
      "source": [
        "## SVC"
      ],
      "metadata": {
        "id": "B8mOGYHXjDgx"
      }
    },
    {
      "cell_type": "code",
      "source": [
        "X = df.clean_tweet.values\n",
        "y = df.label.values"
      ],
      "metadata": {
        "id": "gl9q22smjIoX"
      },
      "execution_count": 65,
      "outputs": []
    },
    {
      "cell_type": "code",
      "source": [
        "from sklearn.model_selection import train_test_split\n",
        "\n",
        "X_train, X_test, y_train, y_test = train_test_split(X, y, test_size=0.3, shuffle=True, random_state=42)"
      ],
      "metadata": {
        "id": "b5Tpjo47jQl_"
      },
      "execution_count": 66,
      "outputs": []
    },
    {
      "cell_type": "code",
      "source": [
        "from sklearn.feature_extraction.text import CountVectorizer\n",
        "\n",
        "vectorizer = CountVectorizer(encoding='utf8', min_df=5)\n",
        "X_train = vectorizer.fit_transform(X_train)\n",
        "X_train.shape"
      ],
      "metadata": {
        "colab": {
          "base_uri": "https://localhost:8080/"
        },
        "id": "WO2A3XyFjReO",
        "outputId": "4bfeada3-a3f0-4f64-8469-76b58edd720d"
      },
      "execution_count": 67,
      "outputs": [
        {
          "output_type": "execute_result",
          "data": {
            "text/plain": [
              "(1978, 1019)"
            ]
          },
          "metadata": {},
          "execution_count": 67
        }
      ]
    },
    {
      "cell_type": "code",
      "source": [
        "X_test = vectorizer.transform(X_test)\n",
        "X_test.shape"
      ],
      "metadata": {
        "colab": {
          "base_uri": "https://localhost:8080/"
        },
        "id": "vmi0AgJ-jULZ",
        "outputId": "c28f448e-ae56-47df-bb84-ab847ff6db1a"
      },
      "execution_count": 68,
      "outputs": [
        {
          "output_type": "execute_result",
          "data": {
            "text/plain": [
              "(848, 1019)"
            ]
          },
          "metadata": {},
          "execution_count": 68
        }
      ]
    },
    {
      "cell_type": "code",
      "source": [
        "from sklearn.svm import SVC\n",
        "svc = SVC(kernel='linear')"
      ],
      "metadata": {
        "id": "QmlJNK_phGj0"
      },
      "execution_count": 69,
      "outputs": []
    },
    {
      "cell_type": "code",
      "source": [
        "svc.fit(X_train, y_train)"
      ],
      "metadata": {
        "colab": {
          "base_uri": "https://localhost:8080/",
          "height": 74
        },
        "id": "V-3AcSSThO34",
        "outputId": "a65999f4-5351-4605-acda-2a48ca1fae2f"
      },
      "execution_count": 70,
      "outputs": [
        {
          "output_type": "execute_result",
          "data": {
            "text/plain": [
              "SVC(kernel='linear')"
            ],
            "text/html": [
              "<style>#sk-container-id-1 {color: black;background-color: white;}#sk-container-id-1 pre{padding: 0;}#sk-container-id-1 div.sk-toggleable {background-color: white;}#sk-container-id-1 label.sk-toggleable__label {cursor: pointer;display: block;width: 100%;margin-bottom: 0;padding: 0.3em;box-sizing: border-box;text-align: center;}#sk-container-id-1 label.sk-toggleable__label-arrow:before {content: \"▸\";float: left;margin-right: 0.25em;color: #696969;}#sk-container-id-1 label.sk-toggleable__label-arrow:hover:before {color: black;}#sk-container-id-1 div.sk-estimator:hover label.sk-toggleable__label-arrow:before {color: black;}#sk-container-id-1 div.sk-toggleable__content {max-height: 0;max-width: 0;overflow: hidden;text-align: left;background-color: #f0f8ff;}#sk-container-id-1 div.sk-toggleable__content pre {margin: 0.2em;color: black;border-radius: 0.25em;background-color: #f0f8ff;}#sk-container-id-1 input.sk-toggleable__control:checked~div.sk-toggleable__content {max-height: 200px;max-width: 100%;overflow: auto;}#sk-container-id-1 input.sk-toggleable__control:checked~label.sk-toggleable__label-arrow:before {content: \"▾\";}#sk-container-id-1 div.sk-estimator input.sk-toggleable__control:checked~label.sk-toggleable__label {background-color: #d4ebff;}#sk-container-id-1 div.sk-label input.sk-toggleable__control:checked~label.sk-toggleable__label {background-color: #d4ebff;}#sk-container-id-1 input.sk-hidden--visually {border: 0;clip: rect(1px 1px 1px 1px);clip: rect(1px, 1px, 1px, 1px);height: 1px;margin: -1px;overflow: hidden;padding: 0;position: absolute;width: 1px;}#sk-container-id-1 div.sk-estimator {font-family: monospace;background-color: #f0f8ff;border: 1px dotted black;border-radius: 0.25em;box-sizing: border-box;margin-bottom: 0.5em;}#sk-container-id-1 div.sk-estimator:hover {background-color: #d4ebff;}#sk-container-id-1 div.sk-parallel-item::after {content: \"\";width: 100%;border-bottom: 1px solid gray;flex-grow: 1;}#sk-container-id-1 div.sk-label:hover label.sk-toggleable__label {background-color: #d4ebff;}#sk-container-id-1 div.sk-serial::before {content: \"\";position: absolute;border-left: 1px solid gray;box-sizing: border-box;top: 0;bottom: 0;left: 50%;z-index: 0;}#sk-container-id-1 div.sk-serial {display: flex;flex-direction: column;align-items: center;background-color: white;padding-right: 0.2em;padding-left: 0.2em;position: relative;}#sk-container-id-1 div.sk-item {position: relative;z-index: 1;}#sk-container-id-1 div.sk-parallel {display: flex;align-items: stretch;justify-content: center;background-color: white;position: relative;}#sk-container-id-1 div.sk-item::before, #sk-container-id-1 div.sk-parallel-item::before {content: \"\";position: absolute;border-left: 1px solid gray;box-sizing: border-box;top: 0;bottom: 0;left: 50%;z-index: -1;}#sk-container-id-1 div.sk-parallel-item {display: flex;flex-direction: column;z-index: 1;position: relative;background-color: white;}#sk-container-id-1 div.sk-parallel-item:first-child::after {align-self: flex-end;width: 50%;}#sk-container-id-1 div.sk-parallel-item:last-child::after {align-self: flex-start;width: 50%;}#sk-container-id-1 div.sk-parallel-item:only-child::after {width: 0;}#sk-container-id-1 div.sk-dashed-wrapped {border: 1px dashed gray;margin: 0 0.4em 0.5em 0.4em;box-sizing: border-box;padding-bottom: 0.4em;background-color: white;}#sk-container-id-1 div.sk-label label {font-family: monospace;font-weight: bold;display: inline-block;line-height: 1.2em;}#sk-container-id-1 div.sk-label-container {text-align: center;}#sk-container-id-1 div.sk-container {/* jupyter's `normalize.less` sets `[hidden] { display: none; }` but bootstrap.min.css set `[hidden] { display: none !important; }` so we also need the `!important` here to be able to override the default hidden behavior on the sphinx rendered scikit-learn.org. See: https://github.com/scikit-learn/scikit-learn/issues/21755 */display: inline-block !important;position: relative;}#sk-container-id-1 div.sk-text-repr-fallback {display: none;}</style><div id=\"sk-container-id-1\" class=\"sk-top-container\"><div class=\"sk-text-repr-fallback\"><pre>SVC(kernel=&#x27;linear&#x27;)</pre><b>In a Jupyter environment, please rerun this cell to show the HTML representation or trust the notebook. <br />On GitHub, the HTML representation is unable to render, please try loading this page with nbviewer.org.</b></div><div class=\"sk-container\" hidden><div class=\"sk-item\"><div class=\"sk-estimator sk-toggleable\"><input class=\"sk-toggleable__control sk-hidden--visually\" id=\"sk-estimator-id-1\" type=\"checkbox\" checked><label for=\"sk-estimator-id-1\" class=\"sk-toggleable__label sk-toggleable__label-arrow\">SVC</label><div class=\"sk-toggleable__content\"><pre>SVC(kernel=&#x27;linear&#x27;)</pre></div></div></div></div></div>"
            ]
          },
          "metadata": {},
          "execution_count": 70
        }
      ]
    },
    {
      "cell_type": "code",
      "source": [
        "y_pred_svc = svc.predict(X_test)"
      ],
      "metadata": {
        "id": "enLvZ1c2hSYZ"
      },
      "execution_count": 71,
      "outputs": []
    },
    {
      "cell_type": "code",
      "source": [
        "accuracy_score(y_test, y_pred_svc)"
      ],
      "metadata": {
        "colab": {
          "base_uri": "https://localhost:8080/"
        },
        "id": "a_HjzMbUhY5B",
        "outputId": "791d1bf1-eb42-4997-889b-e9c79177c516"
      },
      "execution_count": 72,
      "outputs": [
        {
          "output_type": "execute_result",
          "data": {
            "text/plain": [
              "0.6709905660377359"
            ]
          },
          "metadata": {},
          "execution_count": 72
        }
      ]
    },
    {
      "cell_type": "code",
      "source": [
        "f1_score(y_test, y_pred_svc, average='weighted')"
      ],
      "metadata": {
        "id": "6TjjYy6rihd-",
        "colab": {
          "base_uri": "https://localhost:8080/"
        },
        "outputId": "62bad2b9-7de2-4a13-e789-1038bc0d12e0"
      },
      "execution_count": 73,
      "outputs": [
        {
          "output_type": "execute_result",
          "data": {
            "text/plain": [
              "0.6663705403640381"
            ]
          },
          "metadata": {},
          "execution_count": 73
        }
      ]
    },
    {
      "cell_type": "markdown",
      "source": [
        "## Логистическая регрессия"
      ],
      "metadata": {
        "id": "V_UxPMBCG5dz"
      }
    },
    {
      "cell_type": "code",
      "source": [
        "X = df.clean_tweet.values\n",
        "y = df.label.values"
      ],
      "metadata": {
        "id": "zsqOQqNXttNq"
      },
      "execution_count": 74,
      "outputs": []
    },
    {
      "cell_type": "code",
      "source": [
        "from sklearn.model_selection import train_test_split\n",
        "\n",
        "X_train, X_test, y_train, y_test = train_test_split(X, y, test_size=0.3, shuffle=True, random_state=42)"
      ],
      "metadata": {
        "id": "GCVo_rCmHawf"
      },
      "execution_count": 75,
      "outputs": []
    },
    {
      "cell_type": "code",
      "source": [
        "from sklearn.feature_extraction.text import CountVectorizer\n",
        "\n",
        "vectorizer = CountVectorizer(encoding='utf8', min_df=5)\n",
        "X_train = vectorizer.fit_transform(X_train)\n",
        "X_train.shape"
      ],
      "metadata": {
        "colab": {
          "base_uri": "https://localhost:8080/"
        },
        "id": "9SZhU1bdB98K",
        "outputId": "68f4ba82-e9ab-4fc1-aee4-a3526b5941b0"
      },
      "execution_count": 76,
      "outputs": [
        {
          "output_type": "execute_result",
          "data": {
            "text/plain": [
              "(1978, 1019)"
            ]
          },
          "metadata": {},
          "execution_count": 76
        }
      ]
    },
    {
      "cell_type": "code",
      "source": [
        "y_train.shape"
      ],
      "metadata": {
        "colab": {
          "base_uri": "https://localhost:8080/"
        },
        "id": "RqMMHsPrHQae",
        "outputId": "7f0c9c07-a2bc-4d94-9aa8-5da9af760130"
      },
      "execution_count": 77,
      "outputs": [
        {
          "output_type": "execute_result",
          "data": {
            "text/plain": [
              "(1978,)"
            ]
          },
          "metadata": {},
          "execution_count": 77
        }
      ]
    },
    {
      "cell_type": "code",
      "source": [
        "X_test = vectorizer.transform(X_test)\n",
        "X_test.shape"
      ],
      "metadata": {
        "colab": {
          "base_uri": "https://localhost:8080/"
        },
        "id": "JnHT63v8KRk0",
        "outputId": "f1f77648-b326-4543-a43e-7fa45369edfd"
      },
      "execution_count": 78,
      "outputs": [
        {
          "output_type": "execute_result",
          "data": {
            "text/plain": [
              "(848, 1019)"
            ]
          },
          "metadata": {},
          "execution_count": 78
        }
      ]
    },
    {
      "cell_type": "code",
      "source": [
        "from sklearn.linear_model import LogisticRegression\n",
        "from sklearn.metrics import roc_auc_score, accuracy_score, f1_score\n",
        "import numpy as np\n",
        "\n",
        "model = LogisticRegression(solver='liblinear', random_state=0).fit(X_train, y_train)\n",
        "preds = model.predict_proba(X_test)\n",
        "print('ROC-AUC: %.3f, ACC: %.3f, F1: %.3f' % (roc_auc_score(y_test, preds, multi_class='ovr'),\n",
        "                         accuracy_score(y_test, np.argmax(preds, axis=1)),\n",
        "                         f1_score(y_test, np.argmax(preds, axis=1), average='weighted')))"
      ],
      "metadata": {
        "colab": {
          "base_uri": "https://localhost:8080/"
        },
        "id": "lfHYF0gqKbYh",
        "outputId": "19fcac2e-2c61-4e0b-fc1d-30c816d2c58f"
      },
      "execution_count": 79,
      "outputs": [
        {
          "output_type": "stream",
          "name": "stdout",
          "text": [
            "ROC-AUC: 0.875, ACC: 0.721, F1: 0.708\n"
          ]
        }
      ]
    },
    {
      "cell_type": "code",
      "source": [
        "df.label.value_counts()"
      ],
      "metadata": {
        "colab": {
          "base_uri": "https://localhost:8080/"
        },
        "id": "yXQV8b6KRJBo",
        "outputId": "47dcdada-e343-4665-8da8-ceb528de78fc"
      },
      "execution_count": 80,
      "outputs": [
        {
          "output_type": "execute_result",
          "data": {
            "text/plain": [
              "2    1088\n",
              "4     994\n",
              "3     402\n",
              "5     143\n",
              "1     140\n",
              "0      59\n",
              "Name: label, dtype: int64"
            ]
          },
          "metadata": {},
          "execution_count": 80
        }
      ]
    },
    {
      "cell_type": "code",
      "source": [
        "df.label_name.value_counts()"
      ],
      "metadata": {
        "colab": {
          "base_uri": "https://localhost:8080/"
        },
        "id": "MrFRLh76VTzf",
        "outputId": "82c9046f-d701-4232-a2c0-9ba5f28dfeb8"
      },
      "execution_count": 81,
      "outputs": [
        {
          "output_type": "execute_result",
          "data": {
            "text/plain": [
              "pop_culture                 1088\n",
              "sports_&_gaming              994\n",
              "daily_life                   402\n",
              "science_&_technology         143\n",
              "business_&_entrepreneurs     140\n",
              "arts_&_culture                59\n",
              "Name: label_name, dtype: int64"
            ]
          },
          "metadata": {},
          "execution_count": 81
        }
      ]
    },
    {
      "cell_type": "markdown",
      "source": [
        "Веса для arts_&_culture"
      ],
      "metadata": {
        "id": "lrEPlNHqWQej"
      }
    },
    {
      "cell_type": "code",
      "source": [
        "f_weights = zip(vectorizer.get_feature_names_out(), model.coef_[0])\n",
        "f_weights = sorted(f_weights, key=lambda i: i[1])\n",
        "for i in range(1,30):\n",
        "    print('%s, %.2f' % f_weights[-i])\n",
        "\n",
        "print('...')\n",
        "for i in reversed(range(1,30)):\n",
        "    print('%s, %.2f' % f_weights[i])"
      ],
      "metadata": {
        "colab": {
          "base_uri": "https://localhost:8080/"
        },
        "id": "Cx73PcaLQ2g9",
        "outputId": "ae749287-c09f-44bc-9a16-1bb6ac83c1a5"
      },
      "execution_count": 82,
      "outputs": [
        {
          "output_type": "stream",
          "name": "stdout",
          "text": [
            "art, 1.82\n",
            "dead, 1.40\n",
            "jesus, 1.16\n",
            "god, 1.13\n",
            "free, 1.05\n",
            "solstice, 1.03\n",
            "celebrate, 1.03\n",
            "saint, 1.02\n",
            "book, 1.01\n",
            "perfect, 1.01\n",
            "read, 1.01\n",
            "winter, 0.97\n",
            "dance, 0.95\n",
            "present, 0.94\n",
            "artist, 0.92\n",
            "place, 0.87\n",
            "faith, 0.84\n",
            "reason, 0.82\n",
            "crypto, 0.79\n",
            "gift, 0.78\n",
            "article, 0.76\n",
            "girl, 0.75\n",
            "light, 0.71\n",
            "fire, 0.69\n",
            "sometimes, 0.69\n",
            "easter, 0.67\n",
            "meet, 0.66\n",
            "wind, 0.65\n",
            "figure, 0.65\n",
            "...\n",
            "star, -0.41\n",
            "run, -0.41\n",
            "dinner, -0.42\n",
            "season, -0.42\n",
            "next, -0.43\n",
            "watch, -0.45\n",
            "show, -0.47\n",
            "find, -0.47\n",
            "sister, -0.48\n",
            "start, -0.48\n",
            "lot, -0.48\n",
            "moment, -0.49\n",
            "album, -0.49\n",
            "ufc, -0.50\n",
            "keep, -0.51\n",
            "long, -0.51\n",
            "use, -0.52\n",
            "end, -0.53\n",
            "permission, -0.57\n",
            "team, -0.58\n",
            "song, -0.61\n",
            "back, -0.61\n",
            "get, -0.63\n",
            "hope, -0.65\n",
            "win, -0.66\n",
            "game, -0.69\n",
            "video, -0.72\n",
            "music, -0.81\n",
            "good, -0.81\n"
          ]
        }
      ]
    },
    {
      "cell_type": "markdown",
      "source": [
        "Веса для business_&_entrepreneurs"
      ],
      "metadata": {
        "id": "g9j9SUzOWbWy"
      }
    },
    {
      "cell_type": "code",
      "source": [
        "f_weights = zip(vectorizer.get_feature_names_out(), model.coef_[1])\n",
        "f_weights = sorted(f_weights, key=lambda i: i[1])\n",
        "for i in range(1,30):\n",
        "    print('%s, %.2f' % f_weights[-i])\n",
        "\n",
        "print('...')\n",
        "for i in reversed(range(1,30)):\n",
        "    print('%s, %.2f' % f_weights[i])"
      ],
      "metadata": {
        "colab": {
          "base_uri": "https://localhost:8080/"
        },
        "id": "D2Zkqq12VYVH",
        "outputId": "aac60cb6-3eec-4d01-c845-746d25f355ff"
      },
      "execution_count": 83,
      "outputs": [
        {
          "output_type": "stream",
          "name": "stdout",
          "text": [
            "stock, 2.08\n",
            "bank, 1.98\n",
            "business, 1.96\n",
            "company, 1.76\n",
            "extra, 1.46\n",
            "money, 1.44\n",
            "marketing, 1.35\n",
            "market, 1.32\n",
            "problem, 1.22\n",
            "crypto, 1.21\n",
            "project, 1.05\n",
            "hand, 1.01\n",
            "worldwide, 0.97\n",
            "sell, 0.94\n",
            "east, 0.93\n",
            "important, 0.92\n",
            "opening, 0.92\n",
            "support, 0.92\n",
            "link, 0.85\n",
            "dear, 0.84\n",
            "long, 0.83\n",
            "announce, 0.81\n",
            "pass, 0.80\n",
            "buy, 0.79\n",
            "gas, 0.79\n",
            "research, 0.77\n",
            "june, 0.76\n",
            "sign, 0.75\n",
            "surprise, 0.75\n",
            "...\n",
            "fire, -0.53\n",
            "state, -0.53\n",
            "next, -0.53\n",
            "great, -0.54\n",
            "power, -0.54\n",
            "final, -0.55\n",
            "st, -0.55\n",
            "football, -0.56\n",
            "amazing, -0.56\n",
            "action, -0.56\n",
            "go, -0.57\n",
            "watch, -0.57\n",
            "wait, -0.58\n",
            "cancel, -0.60\n",
            "woman, -0.60\n",
            "tonight, -0.60\n",
            "video, -0.64\n",
            "good, -0.67\n",
            "war, -0.67\n",
            "well, -0.68\n",
            "family, -0.68\n",
            "ufc, -0.73\n",
            "song, -0.73\n",
            "season, -0.74\n",
            "white, -0.74\n",
            "bad, -0.77\n",
            "work, -0.79\n",
            "album, -0.79\n",
            "game, -1.00\n"
          ]
        }
      ]
    },
    {
      "cell_type": "markdown",
      "source": [
        "Веса для pop_culture"
      ],
      "metadata": {
        "id": "MmUh9olaWhq5"
      }
    },
    {
      "cell_type": "code",
      "source": [
        "f_weights = zip(vectorizer.get_feature_names_out(), model.coef_[2])\n",
        "f_weights = sorted(f_weights, key=lambda i: i[1])\n",
        "for i in range(1,30):\n",
        "    print('%s, %.2f' % f_weights[-i])\n",
        "\n",
        "print('...')\n",
        "for i in reversed(range(1,30)):\n",
        "    print('%s, %.2f' % f_weights[i])"
      ],
      "metadata": {
        "colab": {
          "base_uri": "https://localhost:8080/"
        },
        "id": "qROAOqrkVeCV",
        "outputId": "824e1126-a54b-4997-aadc-6423c2e606e4"
      },
      "execution_count": 84,
      "outputs": [
        {
          "output_type": "stream",
          "name": "stdout",
          "text": [
            "music, 2.87\n",
            "album, 2.84\n",
            "song, 2.59\n",
            "movie, 2.22\n",
            "harry, 1.68\n",
            "mandalorian, 1.61\n",
            "listen, 1.50\n",
            "mr, 1.48\n",
            "film, 1.42\n",
            "channel, 1.34\n",
            "voice, 1.34\n",
            "vote, 1.34\n",
            "tune, 1.25\n",
            "episode, 1.25\n",
            "thankful, 1.20\n",
            "concert, 1.20\n",
            "actor, 1.20\n",
            "lil, 1.18\n",
            "permission, 1.17\n",
            "radio, 1.14\n",
            "queen, 1.14\n",
            "star, 1.12\n",
            "later, 1.11\n",
            "bts, 1.10\n",
            "land, 1.08\n",
            "nominate, 1.08\n",
            "laugh, 1.07\n",
            "spotify, 1.05\n",
            "bt, 1.04\n",
            "...\n",
            "league, -0.94\n",
            "god, -0.95\n",
            "extra, -0.96\n",
            "vs, -0.98\n",
            "team, -1.00\n",
            "sister, -1.00\n",
            "playoff, -1.02\n",
            "money, -1.02\n",
            "family, -1.02\n",
            "gaming, -1.03\n",
            "crypto, -1.04\n",
            "cowboy, -1.05\n",
            "player, -1.06\n",
            "winter, -1.08\n",
            "top, -1.08\n",
            "goal, -1.10\n",
            "covid, -1.10\n",
            "help, -1.10\n",
            "football, -1.12\n",
            "coach, -1.13\n",
            "protect, -1.14\n",
            "bowl, -1.20\n",
            "state, -1.22\n",
            "main, -1.23\n",
            "cup, -1.34\n",
            "girl, -1.36\n",
            "sport, -1.42\n",
            "fight, -1.49\n",
            "ufc, -1.99\n"
          ]
        }
      ]
    },
    {
      "cell_type": "markdown",
      "source": [
        "Веса для daily_life"
      ],
      "metadata": {
        "id": "hkQbqWoMW7BS"
      }
    },
    {
      "cell_type": "code",
      "source": [
        "f_weights = zip(vectorizer.get_feature_names_out(), model.coef_[3])\n",
        "f_weights = sorted(f_weights, key=lambda i: i[1])\n",
        "for i in range(1,30):\n",
        "    print('%s, %.2f' % f_weights[-i])\n",
        "\n",
        "print('...')\n",
        "for i in reversed(range(1,30)):\n",
        "    print('%s, %.2f' % f_weights[i])"
      ],
      "metadata": {
        "colab": {
          "base_uri": "https://localhost:8080/"
        },
        "id": "eZ2BNYzTVoIn",
        "outputId": "8ba94f24-362d-40b8-c87a-93bc4c5f79b0"
      },
      "execution_count": 85,
      "outputs": [
        {
          "output_type": "stream",
          "name": "stdout",
          "text": [
            "sister, 2.03\n",
            "message, 1.64\n",
            "family, 1.49\n",
            "dinner, 1.41\n",
            "bar, 1.38\n",
            "summer, 1.35\n",
            "happy, 1.31\n",
            "sleep, 1.31\n",
            "morning, 1.21\n",
            "woman, 1.17\n",
            "moment, 1.13\n",
            "enter, 1.12\n",
            "hour, 1.10\n",
            "father, 1.09\n",
            "meal, 1.06\n",
            "coronavirus, 1.05\n",
            "help, 1.04\n",
            "meeting, 1.03\n",
            "might, 1.03\n",
            "remember, 1.02\n",
            "christmas, 1.00\n",
            "box, 0.95\n",
            "baby, 0.95\n",
            "strong, 0.95\n",
            "avoid, 0.94\n",
            "protest, 0.94\n",
            "lovely, 0.93\n",
            "blame, 0.92\n",
            "ny, 0.92\n",
            "...\n",
            "company, -0.73\n",
            "character, -0.74\n",
            "virtual, -0.74\n",
            "round, -0.74\n",
            "series, -0.75\n",
            "internet, -0.75\n",
            "voice, -0.76\n",
            "card, -0.77\n",
            "vs, -0.77\n",
            "face, -0.78\n",
            "star, -0.80\n",
            "tv, -0.81\n",
            "win, -0.82\n",
            "control, -0.83\n",
            "south, -0.83\n",
            "fall, -0.87\n",
            "watch, -0.88\n",
            "second, -0.88\n",
            "long, -0.90\n",
            "brown, -0.96\n",
            "ufc, -1.00\n",
            "story, -1.04\n",
            "movie, -1.12\n",
            "still, -1.15\n",
            "fan, -1.17\n",
            "game, -1.33\n",
            "album, -1.34\n",
            "song, -1.38\n",
            "music, -1.48\n"
          ]
        }
      ]
    },
    {
      "cell_type": "markdown",
      "source": [
        "Веса для sports_&_gaming"
      ],
      "metadata": {
        "id": "htUBPVyEXD7W"
      }
    },
    {
      "cell_type": "code",
      "source": [
        "f_weights = zip(vectorizer.get_feature_names_out(), model.coef_[4])\n",
        "f_weights = sorted(f_weights, key=lambda i: i[1])\n",
        "for i in range(1,30):\n",
        "    print('%s, %.2f' % f_weights[-i])\n",
        "\n",
        "print('...')\n",
        "for i in reversed(range(1,30)):\n",
        "    print('%s, %.2f' % f_weights[i])"
      ],
      "metadata": {
        "colab": {
          "base_uri": "https://localhost:8080/"
        },
        "id": "shtMw3pgVvPR",
        "outputId": "3477aa22-072c-42ba-ed07-7d843caa3517"
      },
      "execution_count": 86,
      "outputs": [
        {
          "output_type": "stream",
          "name": "stdout",
          "text": [
            "ufc, 2.82\n",
            "game, 2.78\n",
            "sport, 1.91\n",
            "coach, 1.83\n",
            "football, 1.71\n",
            "cup, 1.68\n",
            "nfl, 1.58\n",
            "player, 1.54\n",
            "bowl, 1.50\n",
            "gaming, 1.47\n",
            "team, 1.40\n",
            "playoff, 1.39\n",
            "league, 1.30\n",
            "vs, 1.27\n",
            "state, 1.26\n",
            "cowboy, 1.25\n",
            "xfl, 1.24\n",
            "fight, 1.23\n",
            "chief, 1.22\n",
            "draft, 1.21\n",
            "nba, 1.19\n",
            "england, 1.18\n",
            "win, 1.18\n",
            "field, 1.17\n",
            "loss, 1.14\n",
            "round, 1.14\n",
            "tournament, 1.13\n",
            "manchester, 1.11\n",
            "victory, 1.09\n",
            "...\n",
            "pass, -0.85\n",
            "stay, -0.86\n",
            "vote, -0.87\n",
            "love, -0.87\n",
            "star, -0.90\n",
            "land, -0.90\n",
            "celebrate, -0.90\n",
            "easter, -0.90\n",
            "mandalorian, -0.93\n",
            "sister, -0.94\n",
            "mask, -0.96\n",
            "film, -0.96\n",
            "light, -0.97\n",
            "machine, -0.97\n",
            "channel, -0.99\n",
            "share, -1.01\n",
            "bt, -1.02\n",
            "video, -1.03\n",
            "happy, -1.04\n",
            "book, -1.07\n",
            "try, -1.13\n",
            "climate, -1.13\n",
            "harry, -1.14\n",
            "house, -1.15\n",
            "woman, -1.22\n",
            "listen, -1.23\n",
            "movie, -1.35\n",
            "song, -1.64\n",
            "album, -1.77\n"
          ]
        }
      ]
    },
    {
      "cell_type": "markdown",
      "source": [
        "Веса для science_&_technology"
      ],
      "metadata": {
        "id": "oO6BVao0XGj5"
      }
    },
    {
      "cell_type": "code",
      "source": [
        "f_weights = zip(vectorizer.get_feature_names_out(), model.coef_[5])\n",
        "f_weights = sorted(f_weights, key=lambda i: i[1])\n",
        "for i in range(1,30):\n",
        "    print('%s, %.2f' % f_weights[-i])\n",
        "\n",
        "print('...')\n",
        "for i in reversed(range(1,30)):\n",
        "    print('%s, %.2f' % f_weights[i])"
      ],
      "metadata": {
        "colab": {
          "base_uri": "https://localhost:8080/"
        },
        "id": "i8_tTHh0V3zH",
        "outputId": "8088cdac-8ac0-4685-a25a-5c14636c3946"
      },
      "execution_count": 87,
      "outputs": [
        {
          "output_type": "stream",
          "name": "stdout",
          "text": [
            "climate, 2.22\n",
            "human, 1.76\n",
            "learn, 1.69\n",
            "internet, 1.67\n",
            "datum, 1.58\n",
            "vaccine, 1.56\n",
            "covid, 1.40\n",
            "change, 1.39\n",
            "system, 1.32\n",
            "dark, 1.15\n",
            "science, 1.10\n",
            "storm, 1.09\n",
            "stop, 1.00\n",
            "energy, 0.96\n",
            "solid, 0.94\n",
            "dr, 0.94\n",
            "age, 0.92\n",
            "almost, 0.85\n",
            "second, 0.83\n",
            "area, 0.82\n",
            "app, 0.82\n",
            "minute, 0.80\n",
            "phone, 0.80\n",
            "control, 0.80\n",
            "training, 0.80\n",
            "shoot, 0.79\n",
            "daily, 0.78\n",
            "issue, 0.77\n",
            "research, 0.77\n",
            "...\n",
            "let, -0.56\n",
            "weekend, -0.56\n",
            "leave, -0.56\n",
            "still, -0.56\n",
            "everyone, -0.56\n",
            "great, -0.57\n",
            "offer, -0.58\n",
            "night, -0.60\n",
            "th, -0.60\n",
            "good, -0.60\n",
            "listen, -0.61\n",
            "official, -0.61\n",
            "go, -0.61\n",
            "vs, -0.63\n",
            "online, -0.64\n",
            "not, -0.64\n",
            "perfect, -0.65\n",
            "harry, -0.66\n",
            "bank, -0.66\n",
            "album, -0.69\n",
            "win, -0.71\n",
            "song, -0.74\n",
            "break, -0.75\n",
            "play, -0.75\n",
            "season, -0.77\n",
            "line, -0.77\n",
            "game, -0.86\n",
            "ufc, -0.87\n",
            "love, -1.12\n"
          ]
        }
      ]
    },
    {
      "cell_type": "markdown",
      "source": [
        "## DecisionTree"
      ],
      "metadata": {
        "id": "KqawHZ9eXQmE"
      }
    },
    {
      "cell_type": "code",
      "source": [
        "from sklearn.tree import DecisionTreeClassifier\n",
        "tree = DecisionTreeClassifier(criterion='entropy', max_depth=3, random_state=42)\n",
        "tree.fit(X_train, y_train)"
      ],
      "metadata": {
        "colab": {
          "base_uri": "https://localhost:8080/",
          "height": 74
        },
        "id": "KlwRkwm3yyeE",
        "outputId": "ebca94de-993f-4d79-d017-10b1beb14e96"
      },
      "execution_count": 88,
      "outputs": [
        {
          "output_type": "execute_result",
          "data": {
            "text/plain": [
              "DecisionTreeClassifier(criterion='entropy', max_depth=3, random_state=42)"
            ],
            "text/html": [
              "<style>#sk-container-id-2 {color: black;background-color: white;}#sk-container-id-2 pre{padding: 0;}#sk-container-id-2 div.sk-toggleable {background-color: white;}#sk-container-id-2 label.sk-toggleable__label {cursor: pointer;display: block;width: 100%;margin-bottom: 0;padding: 0.3em;box-sizing: border-box;text-align: center;}#sk-container-id-2 label.sk-toggleable__label-arrow:before {content: \"▸\";float: left;margin-right: 0.25em;color: #696969;}#sk-container-id-2 label.sk-toggleable__label-arrow:hover:before {color: black;}#sk-container-id-2 div.sk-estimator:hover label.sk-toggleable__label-arrow:before {color: black;}#sk-container-id-2 div.sk-toggleable__content {max-height: 0;max-width: 0;overflow: hidden;text-align: left;background-color: #f0f8ff;}#sk-container-id-2 div.sk-toggleable__content pre {margin: 0.2em;color: black;border-radius: 0.25em;background-color: #f0f8ff;}#sk-container-id-2 input.sk-toggleable__control:checked~div.sk-toggleable__content {max-height: 200px;max-width: 100%;overflow: auto;}#sk-container-id-2 input.sk-toggleable__control:checked~label.sk-toggleable__label-arrow:before {content: \"▾\";}#sk-container-id-2 div.sk-estimator input.sk-toggleable__control:checked~label.sk-toggleable__label {background-color: #d4ebff;}#sk-container-id-2 div.sk-label input.sk-toggleable__control:checked~label.sk-toggleable__label {background-color: #d4ebff;}#sk-container-id-2 input.sk-hidden--visually {border: 0;clip: rect(1px 1px 1px 1px);clip: rect(1px, 1px, 1px, 1px);height: 1px;margin: -1px;overflow: hidden;padding: 0;position: absolute;width: 1px;}#sk-container-id-2 div.sk-estimator {font-family: monospace;background-color: #f0f8ff;border: 1px dotted black;border-radius: 0.25em;box-sizing: border-box;margin-bottom: 0.5em;}#sk-container-id-2 div.sk-estimator:hover {background-color: #d4ebff;}#sk-container-id-2 div.sk-parallel-item::after {content: \"\";width: 100%;border-bottom: 1px solid gray;flex-grow: 1;}#sk-container-id-2 div.sk-label:hover label.sk-toggleable__label {background-color: #d4ebff;}#sk-container-id-2 div.sk-serial::before {content: \"\";position: absolute;border-left: 1px solid gray;box-sizing: border-box;top: 0;bottom: 0;left: 50%;z-index: 0;}#sk-container-id-2 div.sk-serial {display: flex;flex-direction: column;align-items: center;background-color: white;padding-right: 0.2em;padding-left: 0.2em;position: relative;}#sk-container-id-2 div.sk-item {position: relative;z-index: 1;}#sk-container-id-2 div.sk-parallel {display: flex;align-items: stretch;justify-content: center;background-color: white;position: relative;}#sk-container-id-2 div.sk-item::before, #sk-container-id-2 div.sk-parallel-item::before {content: \"\";position: absolute;border-left: 1px solid gray;box-sizing: border-box;top: 0;bottom: 0;left: 50%;z-index: -1;}#sk-container-id-2 div.sk-parallel-item {display: flex;flex-direction: column;z-index: 1;position: relative;background-color: white;}#sk-container-id-2 div.sk-parallel-item:first-child::after {align-self: flex-end;width: 50%;}#sk-container-id-2 div.sk-parallel-item:last-child::after {align-self: flex-start;width: 50%;}#sk-container-id-2 div.sk-parallel-item:only-child::after {width: 0;}#sk-container-id-2 div.sk-dashed-wrapped {border: 1px dashed gray;margin: 0 0.4em 0.5em 0.4em;box-sizing: border-box;padding-bottom: 0.4em;background-color: white;}#sk-container-id-2 div.sk-label label {font-family: monospace;font-weight: bold;display: inline-block;line-height: 1.2em;}#sk-container-id-2 div.sk-label-container {text-align: center;}#sk-container-id-2 div.sk-container {/* jupyter's `normalize.less` sets `[hidden] { display: none; }` but bootstrap.min.css set `[hidden] { display: none !important; }` so we also need the `!important` here to be able to override the default hidden behavior on the sphinx rendered scikit-learn.org. See: https://github.com/scikit-learn/scikit-learn/issues/21755 */display: inline-block !important;position: relative;}#sk-container-id-2 div.sk-text-repr-fallback {display: none;}</style><div id=\"sk-container-id-2\" class=\"sk-top-container\"><div class=\"sk-text-repr-fallback\"><pre>DecisionTreeClassifier(criterion=&#x27;entropy&#x27;, max_depth=3, random_state=42)</pre><b>In a Jupyter environment, please rerun this cell to show the HTML representation or trust the notebook. <br />On GitHub, the HTML representation is unable to render, please try loading this page with nbviewer.org.</b></div><div class=\"sk-container\" hidden><div class=\"sk-item\"><div class=\"sk-estimator sk-toggleable\"><input class=\"sk-toggleable__control sk-hidden--visually\" id=\"sk-estimator-id-2\" type=\"checkbox\" checked><label for=\"sk-estimator-id-2\" class=\"sk-toggleable__label sk-toggleable__label-arrow\">DecisionTreeClassifier</label><div class=\"sk-toggleable__content\"><pre>DecisionTreeClassifier(criterion=&#x27;entropy&#x27;, max_depth=3, random_state=42)</pre></div></div></div></div></div>"
            ]
          },
          "metadata": {},
          "execution_count": 88
        }
      ]
    },
    {
      "cell_type": "code",
      "source": [
        "preds = tree.predict_proba(X_test)\n",
        "print('ROC-AUC: %.3f, ACC: %.3f, F1: %.3f' % (roc_auc_score(y_test, preds, multi_class='ovr'),\n",
        "                         accuracy_score(y_test, np.argmax(preds, axis=1)),\n",
        "                         f1_score(y_test, np.argmax(preds, axis=1), average='weighted')))"
      ],
      "metadata": {
        "colab": {
          "base_uri": "https://localhost:8080/"
        },
        "id": "YPtQtVmT13VA",
        "outputId": "945b4d6e-c756-43ec-b020-dc2bd49d63a7"
      },
      "execution_count": 89,
      "outputs": [
        {
          "output_type": "stream",
          "name": "stdout",
          "text": [
            "ROC-AUC: 0.601, ACC: 0.435, F1: 0.330\n"
          ]
        }
      ]
    },
    {
      "cell_type": "code",
      "source": [
        "from sklearn.model_selection import GridSearchCV\n",
        "\n",
        "gs = GridSearchCV(DecisionTreeClassifier(random_state=241),\n",
        "                  param_grid={'max_depth': [2, 4, 6, 8, 10],\n",
        "                              'min_samples_leaf': [1, 5, 10, 15, 20],\n",
        "                              'criterion': ['gini', 'entropy']},\n",
        "                  cv=3,\n",
        "                  scoring='r2')\n",
        "gs.fit(X_train, y_train)"
      ],
      "metadata": {
        "colab": {
          "base_uri": "https://localhost:8080/",
          "height": 116
        },
        "id": "6ann20zhAe6l",
        "outputId": "ffc079ba-507d-4408-9f37-a74e37c1b5a1"
      },
      "execution_count": 90,
      "outputs": [
        {
          "output_type": "execute_result",
          "data": {
            "text/plain": [
              "GridSearchCV(cv=3, estimator=DecisionTreeClassifier(random_state=241),\n",
              "             param_grid={'criterion': ['gini', 'entropy'],\n",
              "                         'max_depth': [2, 4, 6, 8, 10],\n",
              "                         'min_samples_leaf': [1, 5, 10, 15, 20]},\n",
              "             scoring='r2')"
            ],
            "text/html": [
              "<style>#sk-container-id-3 {color: black;background-color: white;}#sk-container-id-3 pre{padding: 0;}#sk-container-id-3 div.sk-toggleable {background-color: white;}#sk-container-id-3 label.sk-toggleable__label {cursor: pointer;display: block;width: 100%;margin-bottom: 0;padding: 0.3em;box-sizing: border-box;text-align: center;}#sk-container-id-3 label.sk-toggleable__label-arrow:before {content: \"▸\";float: left;margin-right: 0.25em;color: #696969;}#sk-container-id-3 label.sk-toggleable__label-arrow:hover:before {color: black;}#sk-container-id-3 div.sk-estimator:hover label.sk-toggleable__label-arrow:before {color: black;}#sk-container-id-3 div.sk-toggleable__content {max-height: 0;max-width: 0;overflow: hidden;text-align: left;background-color: #f0f8ff;}#sk-container-id-3 div.sk-toggleable__content pre {margin: 0.2em;color: black;border-radius: 0.25em;background-color: #f0f8ff;}#sk-container-id-3 input.sk-toggleable__control:checked~div.sk-toggleable__content {max-height: 200px;max-width: 100%;overflow: auto;}#sk-container-id-3 input.sk-toggleable__control:checked~label.sk-toggleable__label-arrow:before {content: \"▾\";}#sk-container-id-3 div.sk-estimator input.sk-toggleable__control:checked~label.sk-toggleable__label {background-color: #d4ebff;}#sk-container-id-3 div.sk-label input.sk-toggleable__control:checked~label.sk-toggleable__label {background-color: #d4ebff;}#sk-container-id-3 input.sk-hidden--visually {border: 0;clip: rect(1px 1px 1px 1px);clip: rect(1px, 1px, 1px, 1px);height: 1px;margin: -1px;overflow: hidden;padding: 0;position: absolute;width: 1px;}#sk-container-id-3 div.sk-estimator {font-family: monospace;background-color: #f0f8ff;border: 1px dotted black;border-radius: 0.25em;box-sizing: border-box;margin-bottom: 0.5em;}#sk-container-id-3 div.sk-estimator:hover {background-color: #d4ebff;}#sk-container-id-3 div.sk-parallel-item::after {content: \"\";width: 100%;border-bottom: 1px solid gray;flex-grow: 1;}#sk-container-id-3 div.sk-label:hover label.sk-toggleable__label {background-color: #d4ebff;}#sk-container-id-3 div.sk-serial::before {content: \"\";position: absolute;border-left: 1px solid gray;box-sizing: border-box;top: 0;bottom: 0;left: 50%;z-index: 0;}#sk-container-id-3 div.sk-serial {display: flex;flex-direction: column;align-items: center;background-color: white;padding-right: 0.2em;padding-left: 0.2em;position: relative;}#sk-container-id-3 div.sk-item {position: relative;z-index: 1;}#sk-container-id-3 div.sk-parallel {display: flex;align-items: stretch;justify-content: center;background-color: white;position: relative;}#sk-container-id-3 div.sk-item::before, #sk-container-id-3 div.sk-parallel-item::before {content: \"\";position: absolute;border-left: 1px solid gray;box-sizing: border-box;top: 0;bottom: 0;left: 50%;z-index: -1;}#sk-container-id-3 div.sk-parallel-item {display: flex;flex-direction: column;z-index: 1;position: relative;background-color: white;}#sk-container-id-3 div.sk-parallel-item:first-child::after {align-self: flex-end;width: 50%;}#sk-container-id-3 div.sk-parallel-item:last-child::after {align-self: flex-start;width: 50%;}#sk-container-id-3 div.sk-parallel-item:only-child::after {width: 0;}#sk-container-id-3 div.sk-dashed-wrapped {border: 1px dashed gray;margin: 0 0.4em 0.5em 0.4em;box-sizing: border-box;padding-bottom: 0.4em;background-color: white;}#sk-container-id-3 div.sk-label label {font-family: monospace;font-weight: bold;display: inline-block;line-height: 1.2em;}#sk-container-id-3 div.sk-label-container {text-align: center;}#sk-container-id-3 div.sk-container {/* jupyter's `normalize.less` sets `[hidden] { display: none; }` but bootstrap.min.css set `[hidden] { display: none !important; }` so we also need the `!important` here to be able to override the default hidden behavior on the sphinx rendered scikit-learn.org. See: https://github.com/scikit-learn/scikit-learn/issues/21755 */display: inline-block !important;position: relative;}#sk-container-id-3 div.sk-text-repr-fallback {display: none;}</style><div id=\"sk-container-id-3\" class=\"sk-top-container\"><div class=\"sk-text-repr-fallback\"><pre>GridSearchCV(cv=3, estimator=DecisionTreeClassifier(random_state=241),\n",
              "             param_grid={&#x27;criterion&#x27;: [&#x27;gini&#x27;, &#x27;entropy&#x27;],\n",
              "                         &#x27;max_depth&#x27;: [2, 4, 6, 8, 10],\n",
              "                         &#x27;min_samples_leaf&#x27;: [1, 5, 10, 15, 20]},\n",
              "             scoring=&#x27;r2&#x27;)</pre><b>In a Jupyter environment, please rerun this cell to show the HTML representation or trust the notebook. <br />On GitHub, the HTML representation is unable to render, please try loading this page with nbviewer.org.</b></div><div class=\"sk-container\" hidden><div class=\"sk-item sk-dashed-wrapped\"><div class=\"sk-label-container\"><div class=\"sk-label sk-toggleable\"><input class=\"sk-toggleable__control sk-hidden--visually\" id=\"sk-estimator-id-3\" type=\"checkbox\" ><label for=\"sk-estimator-id-3\" class=\"sk-toggleable__label sk-toggleable__label-arrow\">GridSearchCV</label><div class=\"sk-toggleable__content\"><pre>GridSearchCV(cv=3, estimator=DecisionTreeClassifier(random_state=241),\n",
              "             param_grid={&#x27;criterion&#x27;: [&#x27;gini&#x27;, &#x27;entropy&#x27;],\n",
              "                         &#x27;max_depth&#x27;: [2, 4, 6, 8, 10],\n",
              "                         &#x27;min_samples_leaf&#x27;: [1, 5, 10, 15, 20]},\n",
              "             scoring=&#x27;r2&#x27;)</pre></div></div></div><div class=\"sk-parallel\"><div class=\"sk-parallel-item\"><div class=\"sk-item\"><div class=\"sk-label-container\"><div class=\"sk-label sk-toggleable\"><input class=\"sk-toggleable__control sk-hidden--visually\" id=\"sk-estimator-id-4\" type=\"checkbox\" ><label for=\"sk-estimator-id-4\" class=\"sk-toggleable__label sk-toggleable__label-arrow\">estimator: DecisionTreeClassifier</label><div class=\"sk-toggleable__content\"><pre>DecisionTreeClassifier(random_state=241)</pre></div></div></div><div class=\"sk-serial\"><div class=\"sk-item\"><div class=\"sk-estimator sk-toggleable\"><input class=\"sk-toggleable__control sk-hidden--visually\" id=\"sk-estimator-id-5\" type=\"checkbox\" ><label for=\"sk-estimator-id-5\" class=\"sk-toggleable__label sk-toggleable__label-arrow\">DecisionTreeClassifier</label><div class=\"sk-toggleable__content\"><pre>DecisionTreeClassifier(random_state=241)</pre></div></div></div></div></div></div></div></div></div></div>"
            ]
          },
          "metadata": {},
          "execution_count": 90
        }
      ]
    },
    {
      "cell_type": "code",
      "source": [
        "print(gs.best_score_)\n",
        "print(gs.best_params_)"
      ],
      "metadata": {
        "colab": {
          "base_uri": "https://localhost:8080/"
        },
        "id": "AYGb-ERQAmzT",
        "outputId": "393c7ace-c824-4095-8001-f3347786dee8"
      },
      "execution_count": 91,
      "outputs": [
        {
          "output_type": "stream",
          "name": "stdout",
          "text": [
            "-0.1909098391445665\n",
            "{'criterion': 'entropy', 'max_depth': 10, 'min_samples_leaf': 20}\n"
          ]
        }
      ]
    },
    {
      "cell_type": "code",
      "source": [
        "# Точность лучшей модели\n",
        "preds = gs.best_estimator_.predict_proba(X_test)\n",
        "\n",
        "print('ROC-AUC: %.3f, ACC: %.3f, F1: %.3f' % (roc_auc_score(y_test, preds, multi_class='ovr'),\n",
        "                         accuracy_score(y_test, np.argmax(preds, axis=1)),\n",
        "                         f1_score(y_test, np.argmax(preds, axis=1), average='weighted')))"
      ],
      "metadata": {
        "colab": {
          "base_uri": "https://localhost:8080/"
        },
        "id": "K20885aSArb1",
        "outputId": "523b5320-86e6-4ec3-c9b2-9920614f51cd"
      },
      "execution_count": 92,
      "outputs": [
        {
          "output_type": "stream",
          "name": "stdout",
          "text": [
            "ROC-AUC: 0.691, ACC: 0.532, F1: 0.479\n"
          ]
        }
      ]
    },
    {
      "cell_type": "markdown",
      "source": [
        "## RandomForest"
      ],
      "metadata": {
        "id": "xcSGi7VdB8oQ"
      }
    },
    {
      "cell_type": "code",
      "source": [
        "from sklearn.ensemble import RandomForestClassifier, GradientBoostingClassifier"
      ],
      "metadata": {
        "id": "r4OlafKSBm2H"
      },
      "execution_count": 93,
      "outputs": []
    },
    {
      "cell_type": "code",
      "source": [
        "forest = RandomForestClassifier(n_estimators=100, random_state=0)\n",
        "forest.fit(X_train, y_train)\n",
        "preds = forest.predict_proba(X_test)\n",
        "\n",
        "print('ROC-AUC: %.3f, ACC: %.3f, F1: %.3f' % (roc_auc_score(y_test, preds, multi_class='ovr'),\n",
        "                         accuracy_score(y_test, np.argmax(preds, axis=1)),\n",
        "                         f1_score(y_test, np.argmax(preds, axis=1), average='weighted')))"
      ],
      "metadata": {
        "colab": {
          "base_uri": "https://localhost:8080/"
        },
        "id": "47g_XwWiDsKy",
        "outputId": "ef0255e9-6118-4bd2-cf13-e4877c139987"
      },
      "execution_count": 94,
      "outputs": [
        {
          "output_type": "stream",
          "name": "stdout",
          "text": [
            "ROC-AUC: 0.849, ACC: 0.698, F1: 0.676\n"
          ]
        }
      ]
    },
    {
      "cell_type": "code",
      "source": [
        "forest = RandomForestClassifier(n_estimators=1000, random_state=0)\n",
        "forest.fit(X_train, y_train)\n",
        "preds = forest.predict_proba(X_test)\n",
        "\n",
        "print('ROC-AUC: %.3f, ACC: %.3f, F1: %.3f' % (roc_auc_score(y_test, preds, multi_class='ovr'),\n",
        "                         accuracy_score(y_test, np.argmax(preds, axis=1)),\n",
        "                         f1_score(y_test, np.argmax(preds, axis=1), average='weighted')))"
      ],
      "metadata": {
        "colab": {
          "base_uri": "https://localhost:8080/"
        },
        "id": "3VYr8smxEFtd",
        "outputId": "b5884a6b-3fa8-4f6a-f340-c85b1f3762ad"
      },
      "execution_count": 95,
      "outputs": [
        {
          "output_type": "stream",
          "name": "stdout",
          "text": [
            "ROC-AUC: 0.852, ACC: 0.693, F1: 0.669\n"
          ]
        }
      ]
    },
    {
      "cell_type": "code",
      "source": [
        "gs = GridSearchCV(RandomForestClassifier(random_state=241),\n",
        "                  param_grid={'n_estimators': [100, 1000, 5000],\n",
        "                              'max_depth': [2, 4, 6, 8, 10],\n",
        "                              'min_samples_leaf': [1, 5, 10, 15, 20],\n",
        "                              'criterion': ['gini', 'entropy']},\n",
        "                  cv=3,\n",
        "                  scoring='r2')\n",
        "gs.fit(X_train, y_train)"
      ],
      "metadata": {
        "id": "9DsTNATbEPcO"
      },
      "execution_count": null,
      "outputs": []
    },
    {
      "cell_type": "code",
      "source": [
        "print(gs.best_score_)\n",
        "print(gs.best_params_)"
      ],
      "metadata": {
        "colab": {
          "base_uri": "https://localhost:8080/"
        },
        "id": "uBCAIuDXEs1R",
        "outputId": "c63b757b-4abc-414b-a8c5-1a4a90c01fe8"
      },
      "execution_count": null,
      "outputs": [
        {
          "output_type": "stream",
          "name": "stdout",
          "text": [
            "0.022676199495509586\n",
            "{'criterion': 'gini', 'max_depth': 10, 'min_samples_leaf': 5, 'n_estimators': 1000}\n"
          ]
        }
      ]
    },
    {
      "cell_type": "code",
      "source": [
        "# Точность лучшей модели\n",
        "preds = gs.best_estimator_.predict_proba(X_test)\n",
        "\n",
        "print('ROC-AUC: %.3f, ACC: %.3f, F1: %.3f' % (roc_auc_score(y_test, preds, multi_class='ovr'),\n",
        "                         accuracy_score(y_test, np.argmax(preds, axis=1)),\n",
        "                         f1_score(y_test, np.argmax(preds, axis=1), average='weighted')))"
      ],
      "metadata": {
        "id": "qJqM4OiNMjkU",
        "outputId": "e2e7ca4f-ef8b-4eb3-e5ed-1cbeb421cb5f",
        "colab": {
          "base_uri": "https://localhost:8080/"
        }
      },
      "execution_count": null,
      "outputs": [
        {
          "output_type": "stream",
          "name": "stdout",
          "text": [
            "ROC AUC на трейне: 0.915\n",
            "ROC AUC на тесте: 0.859\n"
          ]
        }
      ]
    },
    {
      "cell_type": "markdown",
      "source": [
        "## Gradient Boosting"
      ],
      "metadata": {
        "id": "VdzzXnSTjBcO"
      }
    },
    {
      "cell_type": "code",
      "source": [
        "boosting = GradientBoostingClassifier(n_estimators=100, random_state=0)\n",
        "boosting.fit(X_train, y_train)"
      ],
      "metadata": {
        "colab": {
          "base_uri": "https://localhost:8080/",
          "height": 74
        },
        "id": "vfFYdmuzkeUx",
        "outputId": "37cd8456-e7b2-4582-8128-e6cdf0fae4ea"
      },
      "execution_count": 97,
      "outputs": [
        {
          "output_type": "execute_result",
          "data": {
            "text/plain": [
              "GradientBoostingClassifier(random_state=0)"
            ],
            "text/html": [
              "<style>#sk-container-id-4 {color: black;background-color: white;}#sk-container-id-4 pre{padding: 0;}#sk-container-id-4 div.sk-toggleable {background-color: white;}#sk-container-id-4 label.sk-toggleable__label {cursor: pointer;display: block;width: 100%;margin-bottom: 0;padding: 0.3em;box-sizing: border-box;text-align: center;}#sk-container-id-4 label.sk-toggleable__label-arrow:before {content: \"▸\";float: left;margin-right: 0.25em;color: #696969;}#sk-container-id-4 label.sk-toggleable__label-arrow:hover:before {color: black;}#sk-container-id-4 div.sk-estimator:hover label.sk-toggleable__label-arrow:before {color: black;}#sk-container-id-4 div.sk-toggleable__content {max-height: 0;max-width: 0;overflow: hidden;text-align: left;background-color: #f0f8ff;}#sk-container-id-4 div.sk-toggleable__content pre {margin: 0.2em;color: black;border-radius: 0.25em;background-color: #f0f8ff;}#sk-container-id-4 input.sk-toggleable__control:checked~div.sk-toggleable__content {max-height: 200px;max-width: 100%;overflow: auto;}#sk-container-id-4 input.sk-toggleable__control:checked~label.sk-toggleable__label-arrow:before {content: \"▾\";}#sk-container-id-4 div.sk-estimator input.sk-toggleable__control:checked~label.sk-toggleable__label {background-color: #d4ebff;}#sk-container-id-4 div.sk-label input.sk-toggleable__control:checked~label.sk-toggleable__label {background-color: #d4ebff;}#sk-container-id-4 input.sk-hidden--visually {border: 0;clip: rect(1px 1px 1px 1px);clip: rect(1px, 1px, 1px, 1px);height: 1px;margin: -1px;overflow: hidden;padding: 0;position: absolute;width: 1px;}#sk-container-id-4 div.sk-estimator {font-family: monospace;background-color: #f0f8ff;border: 1px dotted black;border-radius: 0.25em;box-sizing: border-box;margin-bottom: 0.5em;}#sk-container-id-4 div.sk-estimator:hover {background-color: #d4ebff;}#sk-container-id-4 div.sk-parallel-item::after {content: \"\";width: 100%;border-bottom: 1px solid gray;flex-grow: 1;}#sk-container-id-4 div.sk-label:hover label.sk-toggleable__label {background-color: #d4ebff;}#sk-container-id-4 div.sk-serial::before {content: \"\";position: absolute;border-left: 1px solid gray;box-sizing: border-box;top: 0;bottom: 0;left: 50%;z-index: 0;}#sk-container-id-4 div.sk-serial {display: flex;flex-direction: column;align-items: center;background-color: white;padding-right: 0.2em;padding-left: 0.2em;position: relative;}#sk-container-id-4 div.sk-item {position: relative;z-index: 1;}#sk-container-id-4 div.sk-parallel {display: flex;align-items: stretch;justify-content: center;background-color: white;position: relative;}#sk-container-id-4 div.sk-item::before, #sk-container-id-4 div.sk-parallel-item::before {content: \"\";position: absolute;border-left: 1px solid gray;box-sizing: border-box;top: 0;bottom: 0;left: 50%;z-index: -1;}#sk-container-id-4 div.sk-parallel-item {display: flex;flex-direction: column;z-index: 1;position: relative;background-color: white;}#sk-container-id-4 div.sk-parallel-item:first-child::after {align-self: flex-end;width: 50%;}#sk-container-id-4 div.sk-parallel-item:last-child::after {align-self: flex-start;width: 50%;}#sk-container-id-4 div.sk-parallel-item:only-child::after {width: 0;}#sk-container-id-4 div.sk-dashed-wrapped {border: 1px dashed gray;margin: 0 0.4em 0.5em 0.4em;box-sizing: border-box;padding-bottom: 0.4em;background-color: white;}#sk-container-id-4 div.sk-label label {font-family: monospace;font-weight: bold;display: inline-block;line-height: 1.2em;}#sk-container-id-4 div.sk-label-container {text-align: center;}#sk-container-id-4 div.sk-container {/* jupyter's `normalize.less` sets `[hidden] { display: none; }` but bootstrap.min.css set `[hidden] { display: none !important; }` so we also need the `!important` here to be able to override the default hidden behavior on the sphinx rendered scikit-learn.org. See: https://github.com/scikit-learn/scikit-learn/issues/21755 */display: inline-block !important;position: relative;}#sk-container-id-4 div.sk-text-repr-fallback {display: none;}</style><div id=\"sk-container-id-4\" class=\"sk-top-container\"><div class=\"sk-text-repr-fallback\"><pre>GradientBoostingClassifier(random_state=0)</pre><b>In a Jupyter environment, please rerun this cell to show the HTML representation or trust the notebook. <br />On GitHub, the HTML representation is unable to render, please try loading this page with nbviewer.org.</b></div><div class=\"sk-container\" hidden><div class=\"sk-item\"><div class=\"sk-estimator sk-toggleable\"><input class=\"sk-toggleable__control sk-hidden--visually\" id=\"sk-estimator-id-6\" type=\"checkbox\" checked><label for=\"sk-estimator-id-6\" class=\"sk-toggleable__label sk-toggleable__label-arrow\">GradientBoostingClassifier</label><div class=\"sk-toggleable__content\"><pre>GradientBoostingClassifier(random_state=0)</pre></div></div></div></div></div>"
            ]
          },
          "metadata": {},
          "execution_count": 97
        }
      ]
    },
    {
      "cell_type": "code",
      "source": [
        "preds = boosting.predict_proba(X_test)\n",
        "print('ROC-AUC: %.3f, ACC: %.3f, F1: %.3f' % (roc_auc_score(y_test, preds, multi_class='ovr'),\n",
        "                         accuracy_score(y_test, np.argmax(preds, axis=1)),\n",
        "                         f1_score(y_test, np.argmax(preds, axis=1), average='weighted')))"
      ],
      "metadata": {
        "colab": {
          "base_uri": "https://localhost:8080/"
        },
        "id": "uyeFforDkkpH",
        "outputId": "80630833-9cd8-4fac-b5b8-f796c09d21a8"
      },
      "execution_count": 98,
      "outputs": [
        {
          "output_type": "stream",
          "name": "stdout",
          "text": [
            "ROC-AUC: 0.872, ACC: 0.696, F1: 0.683\n"
          ]
        }
      ]
    },
    {
      "cell_type": "code",
      "source": [
        "boosting = GradientBoostingClassifier(n_estimators=1000, random_state=0)\n",
        "boosting.fit(X_train, y_train)"
      ],
      "metadata": {
        "id": "89naSIVpk1-8",
        "colab": {
          "base_uri": "https://localhost:8080/",
          "height": 74
        },
        "outputId": "1f353858-ac25-4fe9-b730-18952c758a46"
      },
      "execution_count": 99,
      "outputs": [
        {
          "output_type": "execute_result",
          "data": {
            "text/plain": [
              "GradientBoostingClassifier(n_estimators=1000, random_state=0)"
            ],
            "text/html": [
              "<style>#sk-container-id-5 {color: black;background-color: white;}#sk-container-id-5 pre{padding: 0;}#sk-container-id-5 div.sk-toggleable {background-color: white;}#sk-container-id-5 label.sk-toggleable__label {cursor: pointer;display: block;width: 100%;margin-bottom: 0;padding: 0.3em;box-sizing: border-box;text-align: center;}#sk-container-id-5 label.sk-toggleable__label-arrow:before {content: \"▸\";float: left;margin-right: 0.25em;color: #696969;}#sk-container-id-5 label.sk-toggleable__label-arrow:hover:before {color: black;}#sk-container-id-5 div.sk-estimator:hover label.sk-toggleable__label-arrow:before {color: black;}#sk-container-id-5 div.sk-toggleable__content {max-height: 0;max-width: 0;overflow: hidden;text-align: left;background-color: #f0f8ff;}#sk-container-id-5 div.sk-toggleable__content pre {margin: 0.2em;color: black;border-radius: 0.25em;background-color: #f0f8ff;}#sk-container-id-5 input.sk-toggleable__control:checked~div.sk-toggleable__content {max-height: 200px;max-width: 100%;overflow: auto;}#sk-container-id-5 input.sk-toggleable__control:checked~label.sk-toggleable__label-arrow:before {content: \"▾\";}#sk-container-id-5 div.sk-estimator input.sk-toggleable__control:checked~label.sk-toggleable__label {background-color: #d4ebff;}#sk-container-id-5 div.sk-label input.sk-toggleable__control:checked~label.sk-toggleable__label {background-color: #d4ebff;}#sk-container-id-5 input.sk-hidden--visually {border: 0;clip: rect(1px 1px 1px 1px);clip: rect(1px, 1px, 1px, 1px);height: 1px;margin: -1px;overflow: hidden;padding: 0;position: absolute;width: 1px;}#sk-container-id-5 div.sk-estimator {font-family: monospace;background-color: #f0f8ff;border: 1px dotted black;border-radius: 0.25em;box-sizing: border-box;margin-bottom: 0.5em;}#sk-container-id-5 div.sk-estimator:hover {background-color: #d4ebff;}#sk-container-id-5 div.sk-parallel-item::after {content: \"\";width: 100%;border-bottom: 1px solid gray;flex-grow: 1;}#sk-container-id-5 div.sk-label:hover label.sk-toggleable__label {background-color: #d4ebff;}#sk-container-id-5 div.sk-serial::before {content: \"\";position: absolute;border-left: 1px solid gray;box-sizing: border-box;top: 0;bottom: 0;left: 50%;z-index: 0;}#sk-container-id-5 div.sk-serial {display: flex;flex-direction: column;align-items: center;background-color: white;padding-right: 0.2em;padding-left: 0.2em;position: relative;}#sk-container-id-5 div.sk-item {position: relative;z-index: 1;}#sk-container-id-5 div.sk-parallel {display: flex;align-items: stretch;justify-content: center;background-color: white;position: relative;}#sk-container-id-5 div.sk-item::before, #sk-container-id-5 div.sk-parallel-item::before {content: \"\";position: absolute;border-left: 1px solid gray;box-sizing: border-box;top: 0;bottom: 0;left: 50%;z-index: -1;}#sk-container-id-5 div.sk-parallel-item {display: flex;flex-direction: column;z-index: 1;position: relative;background-color: white;}#sk-container-id-5 div.sk-parallel-item:first-child::after {align-self: flex-end;width: 50%;}#sk-container-id-5 div.sk-parallel-item:last-child::after {align-self: flex-start;width: 50%;}#sk-container-id-5 div.sk-parallel-item:only-child::after {width: 0;}#sk-container-id-5 div.sk-dashed-wrapped {border: 1px dashed gray;margin: 0 0.4em 0.5em 0.4em;box-sizing: border-box;padding-bottom: 0.4em;background-color: white;}#sk-container-id-5 div.sk-label label {font-family: monospace;font-weight: bold;display: inline-block;line-height: 1.2em;}#sk-container-id-5 div.sk-label-container {text-align: center;}#sk-container-id-5 div.sk-container {/* jupyter's `normalize.less` sets `[hidden] { display: none; }` but bootstrap.min.css set `[hidden] { display: none !important; }` so we also need the `!important` here to be able to override the default hidden behavior on the sphinx rendered scikit-learn.org. See: https://github.com/scikit-learn/scikit-learn/issues/21755 */display: inline-block !important;position: relative;}#sk-container-id-5 div.sk-text-repr-fallback {display: none;}</style><div id=\"sk-container-id-5\" class=\"sk-top-container\"><div class=\"sk-text-repr-fallback\"><pre>GradientBoostingClassifier(n_estimators=1000, random_state=0)</pre><b>In a Jupyter environment, please rerun this cell to show the HTML representation or trust the notebook. <br />On GitHub, the HTML representation is unable to render, please try loading this page with nbviewer.org.</b></div><div class=\"sk-container\" hidden><div class=\"sk-item\"><div class=\"sk-estimator sk-toggleable\"><input class=\"sk-toggleable__control sk-hidden--visually\" id=\"sk-estimator-id-7\" type=\"checkbox\" checked><label for=\"sk-estimator-id-7\" class=\"sk-toggleable__label sk-toggleable__label-arrow\">GradientBoostingClassifier</label><div class=\"sk-toggleable__content\"><pre>GradientBoostingClassifier(n_estimators=1000, random_state=0)</pre></div></div></div></div></div>"
            ]
          },
          "metadata": {},
          "execution_count": 99
        }
      ]
    },
    {
      "cell_type": "code",
      "source": [
        "preds = boosting.predict_proba(X_test)\n",
        "print('ROC-AUC: %.3f, ACC: %.3f, F1: %.3f' % (roc_auc_score(y_test, preds, multi_class='ovr'),\n",
        "                         accuracy_score(y_test, np.argmax(preds, axis=1)),\n",
        "                         f1_score(y_test, np.argmax(preds, axis=1), average='weighted')))"
      ],
      "metadata": {
        "colab": {
          "base_uri": "https://localhost:8080/"
        },
        "id": "lLdLynXx5wHJ",
        "outputId": "bc21ed38-441b-4dfd-ff91-c638787a7a46"
      },
      "execution_count": 100,
      "outputs": [
        {
          "output_type": "stream",
          "name": "stdout",
          "text": [
            "ROC-AUC: 0.881, ACC: 0.700, F1: 0.686\n"
          ]
        }
      ]
    },
    {
      "cell_type": "code",
      "source": [
        "boosting = GradientBoostingClassifier(n_estimators=5000, random_state=0)\n",
        "boosting.fit(X_train, y_train)"
      ],
      "metadata": {
        "id": "1TK09LCR6MPP"
      },
      "execution_count": null,
      "outputs": []
    },
    {
      "cell_type": "code",
      "source": [
        "preds = boosting.predict_proba(X_test)\n",
        "print('ROC-AUC: %.3f, ACC: %.3f, F1: %.3f' % (roc_auc_score(y_test, preds, multi_class='ovr'),\n",
        "                         accuracy_score(y_test, np.argmax(preds, axis=1)),\n",
        "                         f1_score(y_test, np.argmax(preds, axis=1), average='weighted')))"
      ],
      "metadata": {
        "colab": {
          "base_uri": "https://localhost:8080/"
        },
        "id": "6kSlY6qk6HMp",
        "outputId": "be3d25de-6512-443c-c924-14eed3ff72a4"
      },
      "execution_count": null,
      "outputs": [
        {
          "output_type": "stream",
          "name": "stdout",
          "text": [
            "ROC-AUC: 0.852, ACC: 0.688\n"
          ]
        }
      ]
    },
    {
      "cell_type": "code",
      "source": [
        "parameters = {\n",
        "    \"loss\":[\"deviance\"],\n",
        "    \"learning_rate\": [0.01, 0.025, 0.05, 0.075, 0.1, 0.15, 0.2],\n",
        "    \"min_samples_split\": np.linspace(0.1, 0.5, 12),\n",
        "    \"min_samples_leaf\": np.linspace(0.1, 0.5, 12),\n",
        "    \"max_depth\":[3,5,8],\n",
        "    \"max_features\":[\"log2\",\"sqrt\"],\n",
        "    \"criterion\": [\"friedman_mse\",  \"mae\"],\n",
        "    \"subsample\":[0.5, 0.618, 0.8, 0.85, 0.9, 0.95, 1.0],\n",
        "    \"n_estimators\":[10, 100, 1000]\n",
        "    }\n",
        "\n",
        "clf = GridSearchCV(GradientBoostingClassifier(), parameters, cv=10, n_jobs=-1)\n",
        "\n",
        "clf.fit(X_train, y_train)\n",
        "print(clf.score(X_train, y_train))\n",
        "print(clf.best_params_)\n",
        "\n",
        "# Точность лучшей модели\n",
        "preds = clf.predict_proba(X_test)\n",
        "\n",
        "print('ROC-AUC: %.3f, ACC: %.3f, F1: %.3f' % (roc_auc_score(y_test, preds, multi_class='ovr'),\n",
        "                         accuracy_score(y_test, np.argmax(preds, axis=1)),\n",
        "                         f1_score(y_test, np.argmax(preds, axis=1), average='weighted')))"
      ],
      "metadata": {
        "id": "XbGsUNJ_7uiW"
      },
      "execution_count": null,
      "outputs": []
    }
  ]
}